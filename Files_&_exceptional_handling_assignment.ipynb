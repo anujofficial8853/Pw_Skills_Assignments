{
  "nbformat": 4,
  "nbformat_minor": 0,
  "metadata": {
    "colab": {
      "provenance": []
    },
    "kernelspec": {
      "name": "python3",
      "display_name": "Python 3"
    },
    "language_info": {
      "name": "python"
    }
  },
  "cells": [
    {
      "cell_type": "markdown",
      "source": [
        "#  Assignment : Files & exceptional handling assignment"
      ],
      "metadata": {
        "id": "g2QMhFrBHjHv"
      }
    },
    {
      "cell_type": "markdown",
      "source": [
        "# Theory Question :  Files & Exceptional Handling Assignment"
      ],
      "metadata": {
        "id": "zXMIRt16HqmY"
      }
    },
    {
      "cell_type": "markdown",
      "source": [
        "Q-1 : What is the difference between interpreted and compiled languages?\n"
      ],
      "metadata": {
        "id": "jko5lhGSH0av"
      }
    },
    {
      "cell_type": "markdown",
      "source": [
        "A-1 : Interpreted languages execute code line-by-line (e.g., Python).\n",
        "\n",
        "Compiled languages convert code into machine language before execution (e.g., C, C++).\n",
        "\n",
        ""
      ],
      "metadata": {
        "id": "ZHkIQI0FIBxZ"
      }
    },
    {
      "cell_type": "markdown",
      "source": [
        "Q-2 : What is exception handling in Python?"
      ],
      "metadata": {
        "id": "m5kq4RsDIMQ-"
      }
    },
    {
      "cell_type": "markdown",
      "source": [
        "A-2 : Exception handling allows you to manage runtime errors using try, except, else, and finally blocks."
      ],
      "metadata": {
        "id": "_usFghDUIXIf"
      }
    },
    {
      "cell_type": "markdown",
      "source": [
        "Q-3 : What is the purpose of the finally block in exception handling?"
      ],
      "metadata": {
        "id": "jlvyTgl7Icb1"
      }
    },
    {
      "cell_type": "markdown",
      "source": [
        "A-3 : The finally block runs regardless of whether an exception occurred, typically used for cleanup code.\n",
        "\n"
      ],
      "metadata": {
        "id": "TSrVDZBqIgkx"
      }
    },
    {
      "cell_type": "markdown",
      "source": [
        "Q-4 : What is logging in Python?"
      ],
      "metadata": {
        "id": "nDXX4z_7IkHB"
      }
    },
    {
      "cell_type": "markdown",
      "source": [
        "A-4 : Logging is a way to track events that happen during program execution using the logging module, instead of using print()."
      ],
      "metadata": {
        "id": "puYYJzcmIooy"
      }
    },
    {
      "cell_type": "markdown",
      "source": [
        "Q-5 : What is the significance of the __del__ method in Python?"
      ],
      "metadata": {
        "id": "owaNSh_RIr-z"
      }
    },
    {
      "cell_type": "markdown",
      "source": [
        "A-5 : __del__ is a destructor method called when an object is about to be destroyed; used to free resources.\n",
        "\n"
      ],
      "metadata": {
        "id": "BdXmm3saIvKX"
      }
    },
    {
      "cell_type": "markdown",
      "source": [
        "Q-6 : What is the difference between import and from ... import in Python?"
      ],
      "metadata": {
        "id": "ZwphlHidI0pP"
      }
    },
    {
      "cell_type": "markdown",
      "source": [
        "A-6 :  \n",
        "\n",
        "(i) import module imports the entire module.\n",
        "\n",
        "(ii) from module import name imports specific parts (e.g., functions/classes) from the module."
      ],
      "metadata": {
        "id": "2WYVWv8oI4xn"
      }
    },
    {
      "cell_type": "markdown",
      "source": [
        "Q-7 :  How can you handle multiple exceptions in Python?"
      ],
      "metadata": {
        "id": "QttEkYhfJIUa"
      }
    },
    {
      "cell_type": "markdown",
      "source": [
        "A-7 : Use multiple except blocks or a tuple of exceptions:\n",
        "\n",
        "try:\n",
        "\n",
        "except (TypeError, ValueError) as e:\n",
        "\n",
        "  print(e)\n"
      ],
      "metadata": {
        "id": "ENyOWzAnJM10"
      }
    },
    {
      "cell_type": "markdown",
      "source": [
        "Q-8 : What is the purpose of the with statement when handling files in Python?"
      ],
      "metadata": {
        "id": "rwWeu0nUJmvG"
      }
    },
    {
      "cell_type": "markdown",
      "source": [
        "A-8 : It ensures the file is properly closed after its suite finishes, even if an exception is raised"
      ],
      "metadata": {
        "id": "6zxlfS_mJsVy"
      }
    },
    {
      "cell_type": "markdown",
      "source": [
        "Q-9 : What is the difference between multithreading and multiprocessing?"
      ],
      "metadata": {
        "id": "j2O6uF1dJwxq"
      }
    },
    {
      "cell_type": "markdown",
      "source": [
        "A-9 :\n",
        "\n",
        "(i) Multithreading: Multiple threads in the same process share memory (good for I/O-bound tasks).\n",
        "\n",
        "(ii) Multiprocessing: Multiple processes have separate memory (good for CPU-bound tasks).\n"
      ],
      "metadata": {
        "id": "-jadr68IJ0bX"
      }
    },
    {
      "cell_type": "markdown",
      "source": [
        "Q-10 : What are the advantages of using logging in a program?"
      ],
      "metadata": {
        "id": "xCkMqeQ1J9Gr"
      }
    },
    {
      "cell_type": "markdown",
      "source": [
        "A-10 :\n",
        "\n",
        "(i) Better debugging\n",
        "\n",
        "(ii) Record runtime events\n",
        "\n",
        "(iiI) Adjustable log levels\n",
        "\n",
        "(iv) Persistence to files"
      ],
      "metadata": {
        "id": "0uAJ1BKIKBKi"
      }
    },
    {
      "cell_type": "markdown",
      "source": [
        "Q-11 :  What is memory management in Python?\n"
      ],
      "metadata": {
        "id": "BIIJxp_tKPSp"
      }
    },
    {
      "cell_type": "markdown",
      "source": [
        "A-11 : It's the process of managing memory allocation and deallocation automatically, mainly via garbage collection and reference counting"
      ],
      "metadata": {
        "id": "l8P2QVh1KTdD"
      }
    },
    {
      "cell_type": "markdown",
      "source": [
        "Q-12 : What are the basic steps involved in exception handling in Python?"
      ],
      "metadata": {
        "id": "xeVQ6eugKYOk"
      }
    },
    {
      "cell_type": "markdown",
      "source": [
        "A-12 :\n",
        "\n",
        "(i) Try block: Code that might raise an error.\n",
        "\n",
        "(ii) Except block: Code to handle the error.\n",
        "\n",
        "(iii) Else block: Runs if no error occurs.\n",
        "\n",
        "(iv) Finally block: Always runs, used for cleanup.\n",
        "\n"
      ],
      "metadata": {
        "id": "O4rMOXCKKbFb"
      }
    },
    {
      "cell_type": "markdown",
      "source": [
        "Q-13 : Why is memory management important in Python?"
      ],
      "metadata": {
        "id": "hj0VsPxCKnaw"
      }
    },
    {
      "cell_type": "markdown",
      "source": [
        "A-13 : To avoid memory leaks, ensure efficient performance, and manage resource usage properly."
      ],
      "metadata": {
        "id": "H_aB3KSZKrqv"
      }
    },
    {
      "cell_type": "markdown",
      "source": [
        "Q-14 : What is the role of try and except in exception handling?"
      ],
      "metadata": {
        "id": "1IjbKDYXKx4D"
      }
    },
    {
      "cell_type": "markdown",
      "source": [
        "A-14 :\n",
        "\n",
        "(i) try: Defines a block of code to test for errors.\n",
        "\n",
        "(ii) except: Handles the error if one occurs.\n",
        "\n"
      ],
      "metadata": {
        "id": "y8yRHFlrK05g"
      }
    },
    {
      "cell_type": "markdown",
      "source": [
        "Q-15 : How does Python's garbage collection system work?"
      ],
      "metadata": {
        "id": "lqSwqTcDK9H1"
      }
    },
    {
      "cell_type": "markdown",
      "source": [
        "A-15: Python uses reference counting and a cyclic garbage collector to free memory used by unused objects.\n",
        "\n"
      ],
      "metadata": {
        "id": "kXY9VpQULJZj"
      }
    },
    {
      "cell_type": "markdown",
      "source": [
        "Q-16 : What is the purpose of the else block in exception handling?"
      ],
      "metadata": {
        "id": "Q9exJHuTLMii"
      }
    },
    {
      "cell_type": "markdown",
      "source": [
        "A-16: Executes if no exceptions are raised in the try block."
      ],
      "metadata": {
        "id": "JrVp6_TALQCa"
      }
    },
    {
      "cell_type": "markdown",
      "source": [
        "Q-17 : What are the common logging levels in Python?"
      ],
      "metadata": {
        "id": "wSbaPwqfLVYd"
      }
    },
    {
      "cell_type": "markdown",
      "source": [
        "A-17 : DEBUG, INFO, WARNING, ERROR, CRITICAL\n",
        "\n"
      ],
      "metadata": {
        "id": "5s2ht0GPLaK1"
      }
    },
    {
      "cell_type": "markdown",
      "source": [
        "Q-18 : What is the difference between os.fork() and multiprocessing in Python?"
      ],
      "metadata": {
        "id": "WSmkYqSBLd8n"
      }
    },
    {
      "cell_type": "markdown",
      "source": [
        "A-18 :\n",
        "\n",
        "(i) os.fork(): Low-level, Unix-only process creation.\n",
        "\n",
        "(ii) multiprocessing: Cross-platform, high-level API for parallelism.\n",
        "\n"
      ],
      "metadata": {
        "id": "0PSt8ElbLhb-"
      }
    },
    {
      "cell_type": "markdown",
      "source": [
        "Q-19 : What is the importance of closing a file in Python?"
      ],
      "metadata": {
        "id": "RKavj50nLqCf"
      }
    },
    {
      "cell_type": "markdown",
      "source": [
        "A-19 : Frees system resources and ensures data is properly written to disk."
      ],
      "metadata": {
        "id": "BBaVvwr7LuDN"
      }
    },
    {
      "cell_type": "markdown",
      "source": [
        "Q-20 : What is the difference between file.read() and file.readline() in Python?"
      ],
      "metadata": {
        "id": "mIbYYreZLwr2"
      }
    },
    {
      "cell_type": "markdown",
      "source": [
        "A-20 :\n",
        "\n",
        "(i) file.read(): Reads the entire file.\n",
        "\n",
        "(ii) file.readline(): Reads one line at a time."
      ],
      "metadata": {
        "id": "TThw8KCxLz-D"
      }
    },
    {
      "cell_type": "markdown",
      "source": [
        "Q-21 : What is the logging module in Python used for?"
      ],
      "metadata": {
        "id": "qRezDsjtL66w"
      }
    },
    {
      "cell_type": "markdown",
      "source": [
        "A-21 : To record messages about program execution, helping with debugging and monitoring."
      ],
      "metadata": {
        "id": "eRNhU-ZZL-2d"
      }
    },
    {
      "cell_type": "markdown",
      "source": [
        "Q-22 : What is the os module in Python used for in file handling?"
      ],
      "metadata": {
        "id": "l6mH8P0rMDtR"
      }
    },
    {
      "cell_type": "markdown",
      "source": [
        "A-22 : It provides functions to interact with the operating system, like creating, removing, and navigating directories."
      ],
      "metadata": {
        "id": "di7EGCfjMGiL"
      }
    },
    {
      "cell_type": "markdown",
      "source": [
        "Q-23 : What are the challenges associated with memory management in Python?"
      ],
      "metadata": {
        "id": "C_H0N95hMJAN"
      }
    },
    {
      "cell_type": "markdown",
      "source": [
        "A-23 :\n",
        "\n",
        "(i) Managing circular references\n",
        "\n",
        "(ii) Overhead of automatic garbage collection\n",
        "\n",
        "(iii) Potential memory leaks from long-lived objects\n",
        "\n"
      ],
      "metadata": {
        "id": "j4CROzi8MOkv"
      }
    },
    {
      "cell_type": "markdown",
      "source": [
        "Q-24 : How do you raise an exception manually in Python?"
      ],
      "metadata": {
        "id": "7R15DCHYMWkY"
      }
    },
    {
      "cell_type": "markdown",
      "source": [
        "A-24:\n",
        "\n",
        "Use the raise keyword:\n",
        "\n",
        "raise ValueError(\"Invalid value\")"
      ],
      "metadata": {
        "id": "szE060PNMafH"
      }
    },
    {
      "cell_type": "markdown",
      "source": [
        "Q-25 :  Why is it important to use multithreading in certain applications?"
      ],
      "metadata": {
        "id": "Ko4cIctbMh6t"
      }
    },
    {
      "cell_type": "markdown",
      "source": [
        "A-25 : To handle multiple I/O tasks concurrently (e.g., network operations) without blocking program execution."
      ],
      "metadata": {
        "id": "x09AxArZMkyp"
      }
    },
    {
      "cell_type": "markdown",
      "source": [
        "# Practical Question : Files_&_Exceptional_Handling_Assignment"
      ],
      "metadata": {
        "id": "wtULJqORMr-O"
      }
    },
    {
      "cell_type": "markdown",
      "source": [
        "Q-1 : How can you open a file for writing in Python and write a string to it ?"
      ],
      "metadata": {
        "id": "V9ey3-hHM2Sp"
      }
    },
    {
      "cell_type": "code",
      "source": [
        "# Open the file in write mode\n",
        "with open(\"example.txt\", \"w\") as file:\n",
        "    # Write a string to the file\n",
        "    file.write(\"Hello, this is a sample string.\")\n"
      ],
      "metadata": {
        "id": "rvo1NZ3uM9l0"
      },
      "execution_count": 2,
      "outputs": []
    },
    {
      "cell_type": "markdown",
      "source": [
        "Q-2 : Write a Python program to read the contents of a file and print each line ."
      ],
      "metadata": {
        "id": "wSv69hP9NE_4"
      }
    },
    {
      "cell_type": "code",
      "source": [
        "# Open the file in read mode\n",
        "with open(\"example.txt\", \"r\") as file:\n",
        "    # Iterate through each line in the file\n",
        "    for line in file:\n",
        "        print(line.strip())  # strip() removes trailing newline characters\n"
      ],
      "metadata": {
        "colab": {
          "base_uri": "https://localhost:8080/"
        },
        "id": "7784tcLfNMII",
        "outputId": "4bf8037c-11f4-44cc-fc02-e387cb9b14f2"
      },
      "execution_count": 3,
      "outputs": [
        {
          "output_type": "stream",
          "name": "stdout",
          "text": [
            "Hello, this is a sample string.\n"
          ]
        }
      ]
    },
    {
      "cell_type": "markdown",
      "source": [
        "Q-3 : How would you handle a case where the file doesn't exist while trying to open it for reading ?"
      ],
      "metadata": {
        "id": "ntlXTsUnNS2Y"
      }
    },
    {
      "cell_type": "code",
      "source": [
        "try:\n",
        "    with open(\"example.txt\", \"r\") as file:\n",
        "        for line in file:\n",
        "            print(line.strip())\n",
        "except FileNotFoundError:\n",
        "    print(\"The file does not exist. Please check the filename or path.\")\n"
      ],
      "metadata": {
        "colab": {
          "base_uri": "https://localhost:8080/"
        },
        "id": "W91mqcCBNcZ2",
        "outputId": "659d6140-c0a1-4fa0-a22a-3ebf86bced16"
      },
      "execution_count": 4,
      "outputs": [
        {
          "output_type": "stream",
          "name": "stdout",
          "text": [
            "Hello, this is a sample string.\n"
          ]
        }
      ]
    },
    {
      "cell_type": "markdown",
      "source": [
        "Q-4 : Write a Python script that reads from one file and writes its content to another file?"
      ],
      "metadata": {
        "id": "x_WLKKO0Nf78"
      }
    },
    {
      "cell_type": "code",
      "source": [
        "# Specify the source and destination file names\n",
        "source_file = \"source.txt\"\n",
        "destination_file = \"destination.txt\"\n",
        "\n",
        "try:\n",
        "    # Open the source file in read mode\n",
        "    with open(source_file, \"r\") as src:\n",
        "        # Read content from the source file\n",
        "        content = src.read()\n",
        "\n",
        "    # Open the destination file in write mode\n",
        "    with open(destination_file, \"w\") as dest:\n",
        "        # Write the content to the destination file\n",
        "        dest.write(content)\n",
        "\n",
        "    print(\"File content copied successfully.\")\n",
        "\n",
        "except FileNotFoundError:\n",
        "    print(f\"The file '{source_file}' does not exist.\")\n"
      ],
      "metadata": {
        "colab": {
          "base_uri": "https://localhost:8080/"
        },
        "id": "IMN8NNIyNmGd",
        "outputId": "22176742-a9bc-4de4-aa8a-952e11d954ab"
      },
      "execution_count": 5,
      "outputs": [
        {
          "output_type": "stream",
          "name": "stdout",
          "text": [
            "The file 'source.txt' does not exist.\n"
          ]
        }
      ]
    },
    {
      "cell_type": "markdown",
      "source": [
        "Q-5 : How would you catch and handle division by zero error in Python?"
      ],
      "metadata": {
        "id": "CfIlR8cDNpUi"
      }
    },
    {
      "cell_type": "code",
      "source": [
        "try:\n",
        "    a = 10\n",
        "    b = 0\n",
        "    result = a / b\n",
        "    print(\"Result:\", result)\n",
        "except ZeroDivisionError:\n",
        "    print(\"Error: Division by zero is not allowed.\")\n"
      ],
      "metadata": {
        "colab": {
          "base_uri": "https://localhost:8080/"
        },
        "id": "Gc-Wa6XsN0ro",
        "outputId": "bb7e36c0-c195-490b-9a52-1a38d8c81623"
      },
      "execution_count": 6,
      "outputs": [
        {
          "output_type": "stream",
          "name": "stdout",
          "text": [
            "Error: Division by zero is not allowed.\n"
          ]
        }
      ]
    },
    {
      "cell_type": "markdown",
      "source": [
        "Q-6 : Write a Python program that logs an error message to a log file when a division by zero exception occursF\n"
      ],
      "metadata": {
        "id": "_0XfwVLmN31x"
      }
    },
    {
      "cell_type": "code",
      "source": [
        "import logging\n",
        "\n",
        "# Configure the logging settings\n",
        "logging.basicConfig(\n",
        "    filename=\"error_log.txt\",       # Log file name\n",
        "    level=logging.ERROR,            # Log level\n",
        "    format=\"%(asctime)s - %(levelname)s - %(message)s\"\n",
        ")\n",
        "\n",
        "try:\n",
        "    a = 10\n",
        "    b = 0\n",
        "    result = a / b\n",
        "except ZeroDivisionError as e:\n",
        "    logging.error(\"Attempted division by zero: %s\", e)\n",
        "    print(\"An error occurred. Check 'error_log.txt' for details.\")\n"
      ],
      "metadata": {
        "colab": {
          "base_uri": "https://localhost:8080/"
        },
        "id": "OIbNtrNXN8xv",
        "outputId": "73a4b377-5ffe-4c57-e970-c4659dce08e1"
      },
      "execution_count": 7,
      "outputs": [
        {
          "output_type": "stream",
          "name": "stderr",
          "text": [
            "ERROR:root:Attempted division by zero: division by zero\n"
          ]
        },
        {
          "output_type": "stream",
          "name": "stdout",
          "text": [
            "An error occurred. Check 'error_log.txt' for details.\n"
          ]
        }
      ]
    },
    {
      "cell_type": "markdown",
      "source": [
        "Q-7 : How do you log information at different levels (INFO, ERROR, WARNING) in Python using the logging module ?"
      ],
      "metadata": {
        "id": "jLOqA04FOAF9"
      }
    },
    {
      "cell_type": "code",
      "source": [
        "import logging\n",
        "\n",
        "# Configure the logging settings\n",
        "logging.basicConfig(\n",
        "    filename='app.log',\n",
        "    level=logging.DEBUG,  # Capture all log levels DEBUG and above\n",
        "    format='%(asctime)s - %(levelname)s - %(message)s'\n",
        ")\n",
        "\n",
        "# Logging at different levels\n",
        "logging.debug(\"This is a DEBUG message.\")\n",
        "logging.info(\"This is an INFO message.\")\n",
        "logging.warning(\"This is a WARNING message.\")\n",
        "logging.error(\"This is an ERROR message.\")\n",
        "logging.critical(\"This is a CRITICAL message.\")\n"
      ],
      "metadata": {
        "colab": {
          "base_uri": "https://localhost:8080/"
        },
        "id": "HuNhelCsOFFi",
        "outputId": "f7439e33-e77c-421a-b8db-d56275c57546"
      },
      "execution_count": 8,
      "outputs": [
        {
          "output_type": "stream",
          "name": "stderr",
          "text": [
            "WARNING:root:This is a WARNING message.\n",
            "ERROR:root:This is an ERROR message.\n",
            "CRITICAL:root:This is a CRITICAL message.\n"
          ]
        }
      ]
    },
    {
      "cell_type": "markdown",
      "source": [
        "Q-8 :  Write a program to handle a file opening error using exception handling ?"
      ],
      "metadata": {
        "id": "tgun-tBXOJTo"
      }
    },
    {
      "cell_type": "code",
      "source": [
        "filename = \"nonexistent_file.txt\"\n",
        "\n",
        "try:\n",
        "    with open(filename, \"r\") as file:\n",
        "        content = file.read()\n",
        "        print(content)\n",
        "except FileNotFoundError:\n",
        "    print(f\"Error: The file '{filename}' was not found.\")\n"
      ],
      "metadata": {
        "colab": {
          "base_uri": "https://localhost:8080/"
        },
        "id": "CajwMbe1OP7f",
        "outputId": "bb713ad3-fbbe-4c97-a4c0-f9c1279ae0d3"
      },
      "execution_count": 9,
      "outputs": [
        {
          "output_type": "stream",
          "name": "stdout",
          "text": [
            "Error: The file 'nonexistent_file.txt' was not found.\n"
          ]
        }
      ]
    },
    {
      "cell_type": "markdown",
      "source": [
        "Q-9 :  How can you read a file line by line and store its content in a list in Python ?"
      ],
      "metadata": {
        "id": "d6akSsTMOUq0"
      }
    },
    {
      "cell_type": "code",
      "source": [
        "with open(\"example.txt\", \"r\") as file:\n",
        "    lines = [line.strip() for line in file.readlines()]\n",
        "\n",
        "print(lines)\n"
      ],
      "metadata": {
        "colab": {
          "base_uri": "https://localhost:8080/"
        },
        "id": "gTkWT8wIOa3c",
        "outputId": "59435e89-1d7a-43a6-ab34-b9d88afdebe1"
      },
      "execution_count": 12,
      "outputs": [
        {
          "output_type": "stream",
          "name": "stdout",
          "text": [
            "['Hello, this is a sample string.']\n"
          ]
        }
      ]
    },
    {
      "cell_type": "markdown",
      "source": [
        "Q-10 : How can you append data to an existing file in Python ?"
      ],
      "metadata": {
        "id": "iP9OMYmMOdwg"
      }
    },
    {
      "cell_type": "code",
      "source": [
        "# Data to append\n",
        "data = \"\\nThis is a new line added to the file.\"\n",
        "\n",
        "# Open the file in append mode\n",
        "with open(\"example.txt\", \"a\") as file:\n",
        "    file.write(data)\n",
        "\n",
        "print(\"Data has been appended to the file.\")\n"
      ],
      "metadata": {
        "colab": {
          "base_uri": "https://localhost:8080/"
        },
        "id": "2I2vqMPKOyBo",
        "outputId": "5369968a-0dfd-4c91-dbb5-53cafc18f48e"
      },
      "execution_count": 13,
      "outputs": [
        {
          "output_type": "stream",
          "name": "stdout",
          "text": [
            "Data has been appended to the file.\n"
          ]
        }
      ]
    },
    {
      "cell_type": "markdown",
      "source": [
        "Q-11 : Write a Python program that uses a try-except block to handle an error when attempting to access a\n",
        "dictionary key that doesn't exist ."
      ],
      "metadata": {
        "id": "Uct0gbdLO0bp"
      }
    },
    {
      "cell_type": "code",
      "source": [
        "# Sample dictionary\n",
        "my_dict = {\"name\": \"John\", \"age\": 30}\n",
        "\n",
        "# Key to access\n",
        "key = \"address\"\n",
        "\n",
        "try:\n",
        "    # Attempting to access a key that doesn't exist\n",
        "    value = my_dict[key]\n",
        "    print(value)\n",
        "except KeyError:\n",
        "    print(f\"Error: The key '{key}' does not exist in the dictionary.\")\n"
      ],
      "metadata": {
        "colab": {
          "base_uri": "https://localhost:8080/"
        },
        "id": "kASwDdcGO7y1",
        "outputId": "fcd74984-c482-443b-d33c-0d2631f7def5"
      },
      "execution_count": 14,
      "outputs": [
        {
          "output_type": "stream",
          "name": "stdout",
          "text": [
            "Error: The key 'address' does not exist in the dictionary.\n"
          ]
        }
      ]
    },
    {
      "cell_type": "markdown",
      "source": [
        "Q-12 : Write a program that demonstrates using multiple except blocks to handle different types of exceptionsF"
      ],
      "metadata": {
        "id": "AIlOwWjgPB6K"
      }
    },
    {
      "cell_type": "code",
      "source": [
        "try:\n",
        "    # Trying to perform multiple operations that may cause different errors\n",
        "    x = int(input(\"Enter a number: \"))  # ValueError if input is not a number\n",
        "    y = int(input(\"Enter another number: \"))\n",
        "    result = x / y  # ZeroDivisionError if y is 0\n",
        "    print(f\"The result is: {result}\")\n",
        "\n",
        "except ValueError:\n",
        "    print(\"Error: Invalid input. Please enter a valid number.\")\n",
        "\n",
        "except ZeroDivisionError:\n",
        "    print(\"Error: Division by zero is not allowed.\")\n",
        "\n",
        "except Exception as e:\n",
        "    print(f\"An unexpected error occurred: {e}\")\n"
      ],
      "metadata": {
        "colab": {
          "base_uri": "https://localhost:8080/"
        },
        "id": "TaGZ7EgXPHyM",
        "outputId": "f7ef3704-d135-4aa0-f269-866d52aa67d0"
      },
      "execution_count": 15,
      "outputs": [
        {
          "output_type": "stream",
          "name": "stdout",
          "text": [
            "Enter a number: 4\n",
            "Enter another number: 5\n",
            "The result is: 0.8\n"
          ]
        }
      ]
    },
    {
      "cell_type": "markdown",
      "source": [
        "Q-13 : How would you check if a file exists before attempting to read it in Python ?"
      ],
      "metadata": {
        "id": "tlDpjw_HPNAj"
      }
    },
    {
      "cell_type": "code",
      "source": [
        "import os\n",
        "\n",
        "filename = \"example.txt\"\n",
        "\n",
        "# Check if the file exists before opening it\n",
        "if os.path.exists(filename):\n",
        "    with open(filename, \"r\") as file:\n",
        "        content = file.read()\n",
        "        print(content)\n",
        "else:\n",
        "    print(f\"Error: The file '{filename}' does not exist.\")\n"
      ],
      "metadata": {
        "colab": {
          "base_uri": "https://localhost:8080/"
        },
        "id": "ZW58vRR7PS_t",
        "outputId": "2ceab4ea-f802-4f72-d7e1-c4ee68dcf24b"
      },
      "execution_count": 16,
      "outputs": [
        {
          "output_type": "stream",
          "name": "stdout",
          "text": [
            "Hello, this is a sample string.\n",
            "This is a new line added to the file.\n"
          ]
        }
      ]
    },
    {
      "cell_type": "markdown",
      "source": [
        "Q-14 : Write a program that uses the logging module to log both informational and error messages .\n"
      ],
      "metadata": {
        "id": "dyaRUkJhPV3O"
      }
    },
    {
      "cell_type": "code",
      "source": [
        "import logging\n",
        "\n",
        "# Configure the logging settings\n",
        "logging.basicConfig(\n",
        "    filename=\"app.log\",            # Log file name\n",
        "    level=logging.DEBUG,           # Log all levels DEBUG and above\n",
        "    format=\"%(asctime)s - %(levelname)s - %(message)s\"\n",
        ")\n",
        "\n",
        "# Log an informational message\n",
        "logging.info(\"This is an informational message.\")\n",
        "\n",
        "# Log a warning message\n",
        "logging.warning(\"This is a warning message.\")\n",
        "\n",
        "# Log an error message\n",
        "try:\n",
        "    # Intentionally dividing by zero to generate an error\n",
        "    result = 10 / 0\n",
        "except ZeroDivisionError as e:\n",
        "    logging.error(f\"Error occurred: {e}\")\n",
        "\n",
        "# Log a critical message\n",
        "logging.critical(\"This is a critical message.\")\n"
      ],
      "metadata": {
        "colab": {
          "base_uri": "https://localhost:8080/"
        },
        "id": "NLV48neyPb_5",
        "outputId": "7f156e07-022e-4cb7-a8cf-89db618a8de3"
      },
      "execution_count": 17,
      "outputs": [
        {
          "output_type": "stream",
          "name": "stderr",
          "text": [
            "WARNING:root:This is a warning message.\n",
            "ERROR:root:Error occurred: division by zero\n",
            "CRITICAL:root:This is a critical message.\n"
          ]
        }
      ]
    },
    {
      "cell_type": "markdown",
      "source": [
        "Q-15 : Write a Python program that prints the content of a file and handles the case when the file is empty."
      ],
      "metadata": {
        "id": "rWPnsA0QPe1K"
      }
    },
    {
      "cell_type": "code",
      "source": [
        "filename = \"example.txt\"\n",
        "\n",
        "try:\n",
        "    with open(filename, \"r\") as file:\n",
        "        content = file.read()\n",
        "\n",
        "        # Check if the file is empty\n",
        "        if not content:\n",
        "            print(f\"The file '{filename}' is empty.\")\n",
        "        else:\n",
        "            print(\"File content:\")\n",
        "            print(content)\n",
        "\n",
        "except FileNotFoundError:\n",
        "    print(f\"Error: The file '{filename}' does not exist.\")\n"
      ],
      "metadata": {
        "colab": {
          "base_uri": "https://localhost:8080/"
        },
        "id": "20ZFURUfPlBc",
        "outputId": "befa4cc8-5114-42cd-d950-47502e8e1f45"
      },
      "execution_count": 18,
      "outputs": [
        {
          "output_type": "stream",
          "name": "stdout",
          "text": [
            "File content:\n",
            "Hello, this is a sample string.\n",
            "This is a new line added to the file.\n"
          ]
        }
      ]
    },
    {
      "cell_type": "markdown",
      "source": [
        "Q-16 : Demonstrate how to use memory profiling to check the memory usage of a small program ."
      ],
      "metadata": {
        "id": "QrTGY7eCPp9X"
      }
    },
    {
      "cell_type": "code",
      "source": [
        "import sys\n",
        "\n",
        "def my_function():\n",
        "    a = [1] * (10**6)  # Create a large list\n",
        "    b = [2] * (2 * 10**7)  # Create a larger list\n",
        "    print(f'Memory used by list a: {sys.getsizeof(a)} bytes')\n",
        "    print(f'Memory used by list b: {sys.getsizeof(b)} bytes')\n",
        "    del b  # Delete b to free memory\n",
        "    print(f'Memory used by list a after deletion of b: {sys.getsizeof(a)} bytes')\n",
        "\n",
        "if __name__ == \"__main__\":\n",
        "    my_function()\n"
      ],
      "metadata": {
        "colab": {
          "base_uri": "https://localhost:8080/"
        },
        "id": "5VKuarPqPw94",
        "outputId": "3116aded-06a6-47f1-d7d5-67e268e60f1e"
      },
      "execution_count": 24,
      "outputs": [
        {
          "output_type": "stream",
          "name": "stdout",
          "text": [
            "Memory used by list a: 8000056 bytes\n",
            "Memory used by list b: 160000056 bytes\n",
            "Memory used by list a after deletion of b: 8000056 bytes\n"
          ]
        }
      ]
    },
    {
      "cell_type": "markdown",
      "source": [
        "Q-17 : Write a Python program to create and write a list of numbers to a file, one number per line ."
      ],
      "metadata": {
        "id": "4A8O9YEEQkDw"
      }
    },
    {
      "cell_type": "code",
      "source": [
        "# List of numbers to be written to the file\n",
        "numbers = [1, 2, 3, 4, 5, 6, 7, 8, 9, 10]\n",
        "\n",
        "# Open the file in write mode\n",
        "with open(\"numbers.txt\", \"w\") as file:\n",
        "    for number in numbers:\n",
        "        file.write(f\"{number}\\n\")  # Write each number on a new line\n",
        "\n",
        "print(\"Numbers have been written to 'numbers.txt'.\")\n"
      ],
      "metadata": {
        "colab": {
          "base_uri": "https://localhost:8080/"
        },
        "id": "MhikiiFJQqxE",
        "outputId": "737d807b-0852-480b-e201-8a9df4276a39"
      },
      "execution_count": 25,
      "outputs": [
        {
          "output_type": "stream",
          "name": "stdout",
          "text": [
            "Numbers have been written to 'numbers.txt'.\n"
          ]
        }
      ]
    },
    {
      "cell_type": "markdown",
      "source": [
        "Q-18 : How would you implement a basic logging setup that logs to a file with rotation after 1MB ?"
      ],
      "metadata": {
        "id": "nUUMpjEAQu7Z"
      }
    },
    {
      "cell_type": "code",
      "source": [
        "import logging\n",
        "from logging.handlers import RotatingFileHandler\n",
        "\n",
        "# Set up a rotating file handler\n",
        "handler = RotatingFileHandler(\n",
        "    'app.log',  # Log file name\n",
        "    maxBytes=1e6,  # 1MB in bytes\n",
        "    backupCount=3  # Number of backup files to keep\n",
        ")\n",
        "\n",
        "# Set the logging format\n",
        "formatter = logging.Formatter('%(asctime)s - %(levelname)s - %(message)s')\n",
        "handler.setFormatter(formatter)\n",
        "\n",
        "# Create the logger\n",
        "logger = logging.getLogger()\n",
        "logger.setLevel(logging.DEBUG)  # Set the log level to DEBUG\n",
        "logger.addHandler(handler)\n",
        "\n",
        "# Example log messages\n",
        "logger.info(\"This is an info message.\")\n",
        "logger.error(\"This is an error message.\")\n",
        "logger.warning(\"This is a warning message.\")\n"
      ],
      "metadata": {
        "colab": {
          "base_uri": "https://localhost:8080/"
        },
        "id": "u-FIWo1CQ5pK",
        "outputId": "29eea54b-932b-46dd-abcb-64d9d03dd5e7"
      },
      "execution_count": 26,
      "outputs": [
        {
          "output_type": "stream",
          "name": "stderr",
          "text": [
            "INFO:root:This is an info message.\n",
            "ERROR:root:This is an error message.\n",
            "WARNING:root:This is a warning message.\n"
          ]
        }
      ]
    },
    {
      "cell_type": "markdown",
      "source": [
        "Q-19 : Write a program that handles both IndexError and KeyError using a try-except block ."
      ],
      "metadata": {
        "id": "nbCnMrYCQ2IX"
      }
    },
    {
      "cell_type": "code",
      "source": [
        "# Sample list and dictionary\n",
        "my_list = [10, 20, 30]\n",
        "my_dict = {\"name\": \"John\", \"age\": 30}\n",
        "\n",
        "try:\n",
        "    # Attempt to access an index that doesn't exist in the list\n",
        "    print(my_list[5])  # This will raise IndexError\n",
        "\n",
        "    # Attempt to access a key that doesn't exist in the dictionary\n",
        "    print(my_dict[\"address\"])  # This will raise KeyError\n",
        "\n",
        "except IndexError:\n",
        "    print(\"Error: List index out of range.\")\n",
        "\n",
        "except KeyError:\n",
        "    print(\"Error: Key not found in the dictionary.\")\n"
      ],
      "metadata": {
        "colab": {
          "base_uri": "https://localhost:8080/"
        },
        "id": "Umt5harERCX5",
        "outputId": "8a4b801f-5977-4b24-dc7e-55d5a8d0a70b"
      },
      "execution_count": 27,
      "outputs": [
        {
          "output_type": "stream",
          "name": "stdout",
          "text": [
            "Error: List index out of range.\n"
          ]
        }
      ]
    },
    {
      "cell_type": "markdown",
      "source": [
        "Q-20 : How would you open a file and read its contents using a context manager in Python ?"
      ],
      "metadata": {
        "id": "QuW0ic16REmS"
      }
    },
    {
      "cell_type": "code",
      "source": [
        "# File path\n",
        "filename = \"example.txt\"\n",
        "\n",
        "# Using context manager to open and read the file\n",
        "with open(filename, \"r\") as file:\n",
        "    content = file.read()  # Read the entire content of the file\n",
        "    print(content)\n"
      ],
      "metadata": {
        "colab": {
          "base_uri": "https://localhost:8080/"
        },
        "id": "fcxxW9YDRLhB",
        "outputId": "004e69c2-bbf8-4896-ba2d-66e7ac00d5f4"
      },
      "execution_count": 28,
      "outputs": [
        {
          "output_type": "stream",
          "name": "stdout",
          "text": [
            "Hello, this is a sample string.\n",
            "This is a new line added to the file.\n"
          ]
        }
      ]
    },
    {
      "cell_type": "markdown",
      "source": [
        "Q-21 :  Write a Python program that reads a file and prints the number of occurrences of a specific word."
      ],
      "metadata": {
        "id": "K7biLU9TROcn"
      }
    },
    {
      "cell_type": "code",
      "source": [
        "# File path and the word to search for\n",
        "filename = \"example.txt\"\n",
        "word_to_find = \"Python\"\n",
        "\n",
        "# Initialize the count variable\n",
        "word_count = 0\n",
        "\n",
        "# Open and read the file using context manager\n",
        "with open(filename, \"r\") as file:\n",
        "    # Read each line from the file\n",
        "    for line in file:\n",
        "        # Split the line into words and count occurrences of the word\n",
        "        word_count += line.lower().split().count(word_to_find.lower())\n",
        "\n",
        "# Print the result\n",
        "print(f\"The word '{word_to_find}' appears {word_count} times in the file.\")\n"
      ],
      "metadata": {
        "colab": {
          "base_uri": "https://localhost:8080/"
        },
        "id": "BNW01mYLRUdq",
        "outputId": "850724e9-cc30-4775-8e23-bae10ce08f48"
      },
      "execution_count": 29,
      "outputs": [
        {
          "output_type": "stream",
          "name": "stdout",
          "text": [
            "The word 'Python' appears 0 times in the file.\n"
          ]
        }
      ]
    },
    {
      "cell_type": "markdown",
      "source": [
        "Q-22 :  How can you check if a file is empty before attempting to read its contents ?"
      ],
      "metadata": {
        "id": "JuOXjl88RXU6"
      }
    },
    {
      "cell_type": "code",
      "source": [
        "import os\n",
        "\n",
        "filename = \"example.txt\"\n",
        "\n",
        "# Check if the file exists and if it's empty\n",
        "if os.path.exists(filename) and os.path.getsize(filename) > 0:\n",
        "    with open(filename, \"r\") as file:\n",
        "        content = file.read()\n",
        "        print(\"File content:\")\n",
        "        print(content)\n",
        "else:\n",
        "    print(f\"The file '{filename}' is either empty or does not exist.\")\n"
      ],
      "metadata": {
        "colab": {
          "base_uri": "https://localhost:8080/"
        },
        "id": "mq43YR75RcnO",
        "outputId": "1fdc8a95-c16c-43c4-9dfa-69804fce2cda"
      },
      "execution_count": 30,
      "outputs": [
        {
          "output_type": "stream",
          "name": "stdout",
          "text": [
            "File content:\n",
            "Hello, this is a sample string.\n",
            "This is a new line added to the file.\n"
          ]
        }
      ]
    },
    {
      "cell_type": "markdown",
      "source": [
        "Q-23 : Write a Python program that writes to a log file when an error occurs during file handling."
      ],
      "metadata": {
        "id": "Doh7mw3YRfad"
      }
    },
    {
      "cell_type": "code",
      "source": [
        "import logging\n",
        "\n",
        "# Set up logging to a file\n",
        "logging.basicConfig(\n",
        "    filename=\"error_log.txt\",  # Log file name\n",
        "    level=logging.ERROR,       # Log only errors and more severe messages\n",
        "    format=\"%(asctime)s - %(levelname)s - %(message)s\"\n",
        ")\n",
        "\n",
        "# Function to handle file operations and log errors\n",
        "def read_file(filename):\n",
        "    try:\n",
        "        # Attempt to open and read the file\n",
        "        with open(filename, \"r\") as file:\n",
        "            content = file.read()\n",
        "            print(content)\n",
        "    except FileNotFoundError:\n",
        "        logging.error(f\"File '{filename}' not found.\")\n",
        "    except IOError as e:\n",
        "        logging.error(f\"IOError occurred while handling the file: {e}\")\n",
        "    except Exception as e:\n",
        "        logging.error(f\"An unexpected error occurred: {e}\")\n",
        "\n",
        "# Call the function with a non-existing file\n",
        "read_file(\"non_existing_file.txt\")\n"
      ],
      "metadata": {
        "colab": {
          "base_uri": "https://localhost:8080/"
        },
        "id": "LrtHpAPZRmgj",
        "outputId": "6c5a90b3-7784-4ad6-8e4a-3ffd1631bdcc"
      },
      "execution_count": 32,
      "outputs": [
        {
          "output_type": "stream",
          "name": "stderr",
          "text": [
            "ERROR:root:File 'non_existing_file.txt' not found.\n"
          ]
        }
      ]
    }
  ]
}