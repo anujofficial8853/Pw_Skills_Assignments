{
  "nbformat": 4,
  "nbformat_minor": 0,
  "metadata": {
    "colab": {
      "provenance": []
    },
    "kernelspec": {
      "name": "python3",
      "display_name": "Python 3"
    },
    "language_info": {
      "name": "python"
    }
  },
  "cells": [
    {
      "cell_type": "markdown",
      "source": [
        "Q-1 : What is a random variable in probability theory?"
      ],
      "metadata": {
        "id": "SVMDDWB5J-LZ"
      }
    },
    {
      "cell_type": "markdown",
      "source": [
        "A-1 : A random variable is a numerical outcome of a random process or experiment. It assigns values to each outcome in a sample space."
      ],
      "metadata": {
        "id": "IOXe6LgoKCFB"
      }
    },
    {
      "cell_type": "markdown",
      "source": [
        "Q-2 : What are the types of random variables?"
      ],
      "metadata": {
        "id": "IOGUXySRKFD_"
      }
    },
    {
      "cell_type": "markdown",
      "source": [
        "A-2: Discrete Random Variables – take on countable values (e.g., 0, 1, 2).\n",
        "\n",
        "Continuous Random Variables – take on any value within a range (e.g., any real number between 0 and 1).\n",
        "\n"
      ],
      "metadata": {
        "id": "X2fSb52JKIJG"
      }
    },
    {
      "cell_type": "markdown",
      "source": [
        "Q-3 : What is the difference between discrete and continuous distributions?"
      ],
      "metadata": {
        "id": "v2zGKnL_KOoH"
      }
    },
    {
      "cell_type": "markdown",
      "source": [
        "A-3 : Discrete distributions describe variables that have specific, separate values.\n",
        "\n",
        "Continuous distributions describe variables that can take any value within a continuum or interval.\n",
        "\n"
      ],
      "metadata": {
        "id": "_tZUrUIfKS50"
      }
    },
    {
      "cell_type": "markdown",
      "source": [
        "Q-4 : What are probability distribution functions (PDF)?"
      ],
      "metadata": {
        "id": "Iyvyo-F8KZ5U"
      }
    },
    {
      "cell_type": "markdown",
      "source": [
        "A-4 : A PDF (Probability Density Function) shows the likelihood of a continuous random variable taking a particular value. For continuous variables, the probability of an exact value is 0; instead, we look at intervals."
      ],
      "metadata": {
        "id": "4GPaN-V2Kc8Y"
      }
    },
    {
      "cell_type": "markdown",
      "source": [
        "Q-5 : How do cumulative distribution functions (CDF) differ from probability distribution functions (PDF)?"
      ],
      "metadata": {
        "id": "MfVYqycTKgEf"
      }
    },
    {
      "cell_type": "markdown",
      "source": [
        "A-5 : CDF gives the probability that a variable is less than or equal to a certain value.\n",
        "\n",
        "PDF describes the relative likelihood of the variable at a point or within an interval."
      ],
      "metadata": {
        "id": "BgmfCOrdKj17"
      }
    },
    {
      "cell_type": "markdown",
      "source": [
        "Q-6 : What is a discrete uniform distribution?"
      ],
      "metadata": {
        "id": "tT5mIHOZKnTq"
      }
    },
    {
      "cell_type": "markdown",
      "source": [
        "A-6 : A distribution where all possible outcomes are equally likely. Example: rolling a fair die (each face 1–6 has equal probability of 1/6)."
      ],
      "metadata": {
        "id": "2mGwnR5DKp8O"
      }
    },
    {
      "cell_type": "markdown",
      "source": [
        "Q-7 : What are the key properties of a Bernoulli distribution?"
      ],
      "metadata": {
        "id": "ZHkwHNVtKsM1"
      }
    },
    {
      "cell_type": "markdown",
      "source": [
        "A-7 : Two outcomes: success (1) or failure (0)\n",
        "\n",
        "One trial\n",
        "\n",
        "Probability of success =\n",
        "𝑝\n",
        "p; failure =\n",
        "1\n",
        "−\n",
        "𝑝\n",
        "1−p\n",
        "\n"
      ],
      "metadata": {
        "id": "z8GsaCcEKwhj"
      }
    },
    {
      "cell_type": "markdown",
      "source": [
        "Q-8 : What is the binomial distribution, and how is it used in probability?"
      ],
      "metadata": {
        "id": "Sv4oXqzWK3Lw"
      }
    },
    {
      "cell_type": "markdown",
      "source": [
        "A-8 : Models the number of successes in\n",
        "𝑛\n",
        "n independent Bernoulli trials.\n",
        "\n",
        "Used when each trial has the same probability\n",
        "𝑝\n",
        "p of success."
      ],
      "metadata": {
        "id": "p4GOF065K6G9"
      }
    },
    {
      "cell_type": "markdown",
      "source": [
        "Q-9 : What is the Poisson distribution and where is it applied?"
      ],
      "metadata": {
        "id": "mqxxwOpGK9BJ"
      }
    },
    {
      "cell_type": "markdown",
      "source": [
        "A-9 : Models the number of events occurring in a fixed interval of time or space.\n",
        "\n",
        "Used for rare events (e.g., number of calls at a call center per hour)."
      ],
      "metadata": {
        "id": "zzqv1WOwLBCN"
      }
    },
    {
      "cell_type": "markdown",
      "source": [
        "Q-10 : What is a continuous uniform distribution?"
      ],
      "metadata": {
        "id": "bL092q2XLD12"
      }
    },
    {
      "cell_type": "markdown",
      "source": [
        "A-10 : A distribution where all values in a continuous range have equal probability. Example: selecting a random number between 0 and 1."
      ],
      "metadata": {
        "id": "PgNwR9CHLGyG"
      }
    },
    {
      "cell_type": "markdown",
      "source": [
        "Q-11 : What are the characteristics of a normal distribution?"
      ],
      "metadata": {
        "id": "yyo1tUIhLMiw"
      }
    },
    {
      "cell_type": "markdown",
      "source": [
        "A-11 : Bell-shaped and symmetric about the mean\n",
        "\n",
        "Defined by its mean (μ) and standard deviation (σ)\n",
        "\n",
        "Mean = Median = Mode"
      ],
      "metadata": {
        "id": "GLacnEHmLPZf"
      }
    },
    {
      "cell_type": "markdown",
      "source": [
        "Q-12 : What is the standard normal distribution, and why is it important?"
      ],
      "metadata": {
        "id": "Pj5uO3b8LTWL"
      }
    },
    {
      "cell_type": "markdown",
      "source": [
        "A-12 : A normal distribution with mean 0 and standard deviation 1.\n",
        "\n",
        "Useful because any normal distribution can be standardized using a Z-score for easy comparison."
      ],
      "metadata": {
        "id": "gAhiF9cwLWIO"
      }
    },
    {
      "cell_type": "markdown",
      "source": [
        "Q-13 : What is the Central Limit Theorem (CLT), and why is it critical in statistics?"
      ],
      "metadata": {
        "id": "hl_h1kY6LZEn"
      }
    },
    {
      "cell_type": "markdown",
      "source": [
        "A-13: CLT states that the sampling distribution of the sample mean approaches a normal distribution as sample size increases, regardless of the population's distribution. It justifies using normal approximation in inferential statistics."
      ],
      "metadata": {
        "id": "ZShF302hLlB_"
      }
    },
    {
      "cell_type": "markdown",
      "source": [
        "Q-14 : How does the Central Limit Theorem relate to the normal distribution?"
      ],
      "metadata": {
        "id": "lnmA0cmrLneN"
      }
    },
    {
      "cell_type": "markdown",
      "source": [
        "A-14 : It explains why the normal distribution is commonly used: the mean of large samples tends to follow a normal distribution, even if the population isn't normal.\n",
        "\n"
      ],
      "metadata": {
        "id": "Tw4IAHThLqJY"
      }
    },
    {
      "cell_type": "markdown",
      "source": [
        "Q-15 :  What is the application of Z statistics in hypothesis testing?"
      ],
      "metadata": {
        "id": "A1NhBDWqLtdO"
      }
    },
    {
      "cell_type": "markdown",
      "source": [
        "A-15 : Z-statistics help determine how many standard deviations a sample statistic is from the population mean, aiding in testing hypotheses (e.g., is the sample mean significantly different?).\n",
        "\n"
      ],
      "metadata": {
        "id": "C0K4E80ZLzcN"
      }
    },
    {
      "cell_type": "markdown",
      "source": [
        "Q-16 : How do you calculate a Z-score, and what does it represent?"
      ],
      "metadata": {
        "id": "H5lhP5iXL2In"
      }
    },
    {
      "cell_type": "markdown",
      "source": [
        "A-16 : Z = (X - μ) / σ\n",
        "It tells how many standard deviations a value\n",
        "𝑋\n",
        "X is from the mean\n",
        "𝜇\n",
        "μ. A Z-score of 2 means the value is 2 standard deviations above the mean."
      ],
      "metadata": {
        "id": "n-1v0qDoL6M5"
      }
    },
    {
      "cell_type": "markdown",
      "source": [
        "Q-17 :  What are point estimates and interval estimates in statistics?"
      ],
      "metadata": {
        "id": "PFl3MRMZL8k1"
      }
    },
    {
      "cell_type": "markdown",
      "source": [
        "A-17 : Point estimate: Single value used to estimate a parameter (e.g., sample mean).\n",
        "\n",
        "Interval estimate: Range of values (e.g., confidence interval) that likely contains the population parameter.\n",
        "\n"
      ],
      "metadata": {
        "id": "s2E50cFPL_bz"
      }
    },
    {
      "cell_type": "markdown",
      "source": [
        "Q-18 : What is the significance of confidence intervals in statistical analysis?"
      ],
      "metadata": {
        "id": "gZrjSYdcMClq"
      }
    },
    {
      "cell_type": "markdown",
      "source": [
        "A-18 : Confidence intervals provide a range within which the true population parameter is likely to lie, offering more information than a point estimate alone."
      ],
      "metadata": {
        "id": "4S7LhndaMFDb"
      }
    },
    {
      "cell_type": "markdown",
      "source": [
        "Q-19 : What is the relationship between a Z-score and a confidence interval?"
      ],
      "metadata": {
        "id": "XBw4GVWDMHPg"
      }
    },
    {
      "cell_type": "markdown",
      "source": [
        "A-19 : Z-scores define the margins for confidence intervals. For example, for a 95% confidence level, Z ≈ ±1.96 is used.\n",
        "\n"
      ],
      "metadata": {
        "id": "Q0h_AP2DMJ7s"
      }
    },
    {
      "cell_type": "markdown",
      "source": [
        "Q-20 :  How are Z-scores used to compare different distributions?"
      ],
      "metadata": {
        "id": "vt08kcDYMN0G"
      }
    },
    {
      "cell_type": "markdown",
      "source": [
        "A-20 : By converting different values to Z-scores, you can compare them on a standard scale, regardless of the original distributions’ means and standard deviations."
      ],
      "metadata": {
        "id": "ncVJAzfdMQ4A"
      }
    },
    {
      "cell_type": "markdown",
      "source": [
        "Q-21 : What are the assumptions for applying the Central Limit Theorem?"
      ],
      "metadata": {
        "id": "lJqTm0mPMTa6"
      }
    },
    {
      "cell_type": "markdown",
      "source": [
        "A-21 : Sample size is sufficiently large (usually\n",
        "𝑛\n",
        "≥\n",
        "30\n",
        "n≥30)\n",
        "\n",
        "Independent and identically distributed (i.i.d.) samples\n",
        "\n",
        "Finite variance and mean"
      ],
      "metadata": {
        "id": "3MZJUgV-MV5R"
      }
    },
    {
      "cell_type": "markdown",
      "source": [
        "Q-22 : What is the concept of expected value in a probability distribution?"
      ],
      "metadata": {
        "id": "t709mSlvMZrs"
      }
    },
    {
      "cell_type": "markdown",
      "source": [
        "A-22 : The expected value is the long-run average or mean value of a random variable based on its probability distribution.\n",
        "\n"
      ],
      "metadata": {
        "id": "PFiupZKfMdMP"
      }
    },
    {
      "cell_type": "markdown",
      "source": [
        "Q-23 : How does a probability distribution relate to the expected outcome of a random variable?"
      ],
      "metadata": {
        "id": "9nQBnuW5MflB"
      }
    },
    {
      "cell_type": "markdown",
      "source": [
        "A-23 : The probability distribution describes all possible outcomes and their probabilities, and the expected value is calculated using this distribution:\n",
        "E(X) = Σ [x × P(x)] for discrete;\n",
        "E(X) = ∫ x f(x) dx for continuous."
      ],
      "metadata": {
        "id": "MvK_z52uMivK"
      }
    },
    {
      "cell_type": "markdown",
      "source": [],
      "metadata": {
        "id": "ATwiJ1B3MlJ5"
      }
    }
  ]
}