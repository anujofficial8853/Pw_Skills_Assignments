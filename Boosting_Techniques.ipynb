{
  "nbformat": 4,
  "nbformat_minor": 0,
  "metadata": {
    "colab": {
      "provenance": []
    },
    "kernelspec": {
      "name": "python3",
      "display_name": "Python 3"
    },
    "language_info": {
      "name": "python"
    }
  },
  "cells": [
    {
      "cell_type": "markdown",
      "source": [
        "#Boosting Techniques | Assignment"
      ],
      "metadata": {
        "id": "NicAI6dyuWUf"
      }
    },
    {
      "cell_type": "markdown",
      "source": [
        "Q-1 : What is Boosting in Machine Learning? Explain how it improves weak\n",
        "learners.\n"
      ],
      "metadata": {
        "id": "lPxHO-oHuabj"
      }
    },
    {
      "cell_type": "markdown",
      "source": [
        "A-1 : Boosting is an ensemble learning technique that combines multiple weak learners sequentially, where each new learner focuses on correcting the errors of the previous ones, resulting in a strong predictive model. It improves weak learners by assigning higher weights to misclassified samples, reducing bias and increasing accuracy"
      ],
      "metadata": {
        "id": "ruJopw3xulfE"
      }
    },
    {
      "cell_type": "markdown",
      "source": [
        "Q-2 : What is the difference between AdaBoost and Gradient Boosting in terms\n",
        "of how models are trained?\n"
      ],
      "metadata": {
        "id": "1XY2uX0uunCO"
      }
    },
    {
      "cell_type": "markdown",
      "source": [
        "A-2 : Difference in Training Approach:\n",
        "\n",
        "AdaBoost: Trains models sequentially by adjusting the weights of training samples — misclassified samples get higher weights so the next learner focuses more on them.\n",
        "\n",
        "Gradient Boosting: Trains models sequentially by fitting each new model to the residual errors (gradients) of the previous model, using gradient descent to minimize a loss function."
      ],
      "metadata": {
        "id": "PwKieIWcus5w"
      }
    },
    {
      "cell_type": "markdown",
      "source": [
        "Q-3 : How does regularization help in XGBoost?"
      ],
      "metadata": {
        "id": "8NW64WQDu4_a"
      }
    },
    {
      "cell_type": "markdown",
      "source": [
        "A-3 : In XGBoost, regularization helps by penalizing overly complex trees, which prevents overfitting and improves generalization.\n",
        "\n",
        "L1 regularization (α) → pushes some leaf weights to zero, creating a simpler, sparser model.\n",
        "\n",
        "L2 regularization (λ) → smooths leaf weights to avoid extreme values.\n",
        "\n",
        "This keeps the model accurate on training data while staying reliable on unseen data."
      ],
      "metadata": {
        "id": "CD1wQWNLvP0l"
      }
    },
    {
      "cell_type": "markdown",
      "source": [
        "Q-4 : Why is CatBoost considered efficient for handling categorical data?"
      ],
      "metadata": {
        "id": "Fi4fPwFfvryC"
      }
    },
    {
      "cell_type": "markdown",
      "source": [
        "A-4 : CatBoost is efficient for categorical data because it converts categorical features into numerical values internally using target statistics (like mean target value) with an ordered boosting technique that prevents target leakage.\n",
        "\n",
        "It handles high-cardinality categories well without one-hot encoding, reducing preprocessing time and preserving information.\n"
      ],
      "metadata": {
        "id": "X-SAoWt0vyR5"
      }
    },
    {
      "cell_type": "markdown",
      "source": [
        "Q-5 : What are some real-world applications where boosting techniques are\n",
        "preferred over bagging methods?"
      ],
      "metadata": {
        "id": "ORg7SjyMv4zD"
      }
    },
    {
      "cell_type": "markdown",
      "source": [
        "A-5 : Boosting is often preferred over bagging when high predictive accuracy is required and the dataset is relatively clean (less noisy).\n",
        "Some real-world applications include:\n",
        "\n",
        "Credit scoring & fraud detection – Detecting subtle patterns in financial transactions.\n",
        "\n",
        "Customer churn prediction – Identifying customers likely to leave a service.\n",
        "\n",
        "Search engine ranking – Ranking web pages (e.g., Gradient Boosting in Google’s ranking algorithms).\n",
        "\n",
        "Medical diagnosis – Predicting diseases from patient records with high precision.\n",
        "\n",
        "Online ad click-through rate prediction – Boosting algorithms like XGBoost for ad targeting."
      ],
      "metadata": {
        "id": "od9-6p-5wDIw"
      }
    },
    {
      "cell_type": "markdown",
      "source": [
        "Q-6 : ● Use sklearn.datasets.load_breast_cancer() for classification tasks.\n",
        "● Use sklearn.datasets.fetch_california_housing() for regression\n",
        "tasks.\n",
        "Question 6: Write a Python program to:\n",
        "● Train an AdaBoost Classifier on the Breast Cancer dataset\n",
        "● Print the model accuracy\n",
        "(Include your Python code and output in the code box below.)"
      ],
      "metadata": {
        "id": "3PtFIB13wNP0"
      }
    },
    {
      "cell_type": "code",
      "source": [
        "from sklearn.datasets import load_breast_cancer\n",
        "from sklearn.model_selection import train_test_split\n",
        "from sklearn.ensemble import AdaBoostClassifier\n",
        "from sklearn.metrics import accuracy_score\n",
        "\n",
        "# Load dataset\n",
        "data = load_breast_cancer()\n",
        "X, y = data.data, data.target\n",
        "\n",
        "# Split data\n",
        "X_train, X_test, y_train, y_test = train_test_split(\n",
        "    X, y, test_size=0.2, random_state=42\n",
        ")\n",
        "\n",
        "# Initialize and train AdaBoost Classifier\n",
        "model = AdaBoostClassifier(n_estimators=50, random_state=42)\n",
        "model.fit(X_train, y_train)\n",
        "\n",
        "# Predict\n",
        "y_pred = model.predict(X_test)\n",
        "\n",
        "# Accuracy\n",
        "accuracy = accuracy_score(y_test, y_pred)\n",
        "print(f\"Model Accuracy: {accuracy:.4f}\")\n"
      ],
      "metadata": {
        "colab": {
          "base_uri": "https://localhost:8080/"
        },
        "id": "QzcempFCwgsU",
        "outputId": "edc052a5-7b4e-411a-d85f-dbcff3d2c077"
      },
      "execution_count": 1,
      "outputs": [
        {
          "output_type": "stream",
          "name": "stdout",
          "text": [
            "Model Accuracy: 0.9649\n"
          ]
        }
      ]
    },
    {
      "cell_type": "markdown",
      "source": [
        "Q-7 : Question 7: Write a Python program to:\n",
        "● Train a Gradient Boosting Regressor on the California Housing dataset\n",
        "● Evaluate performance using R-squared score\n",
        "(Include your Python code and output in the code box below.)"
      ],
      "metadata": {
        "id": "f4P7Q-xQwfq9"
      }
    },
    {
      "cell_type": "code",
      "source": [
        "from sklearn.datasets import fetch_california_housing\n",
        "from sklearn.model_selection import train_test_split\n",
        "from sklearn.ensemble import GradientBoostingRegressor\n",
        "from sklearn.metrics import r2_score\n",
        "\n",
        "# Load dataset\n",
        "data = fetch_california_housing()\n",
        "X, y = data.data, data.target\n",
        "\n",
        "# Split data\n",
        "X_train, X_test, y_train, y_test = train_test_split(\n",
        "    X, y, test_size=0.2, random_state=42\n",
        ")\n",
        "\n",
        "# Initialize and train Gradient Boosting Regressor\n",
        "model = GradientBoostingRegressor(n_estimators=100, random_state=42)\n",
        "model.fit(X_train, y_train)\n",
        "\n",
        "# Predict\n",
        "y_pred = model.predict(X_test)\n",
        "\n",
        "# R² Score\n",
        "r2 = r2_score(y_test, y_pred)\n",
        "print(f\"R-squared Score: {r2:.4f}\")\n"
      ],
      "metadata": {
        "colab": {
          "base_uri": "https://localhost:8080/"
        },
        "id": "JQdjbPEiwzUq",
        "outputId": "1aa09b2e-c2e0-4450-b7ef-ac90ff06c7a3"
      },
      "execution_count": 2,
      "outputs": [
        {
          "output_type": "stream",
          "name": "stdout",
          "text": [
            "R-squared Score: 0.7756\n"
          ]
        }
      ]
    },
    {
      "cell_type": "markdown",
      "source": [
        "Q-8 : Write a Python program to:\n",
        "● Train an XGBoost Classifier on the Breast Cancer dataset\n",
        "● Tune the learning rate using GridSearchCV\n",
        "● Print the best parameters and accuracy\n",
        "(Include your Python code and output in the code box below.)"
      ],
      "metadata": {
        "id": "9kMuuUo2w3DM"
      }
    },
    {
      "cell_type": "code",
      "source": [
        "from sklearn.datasets import load_breast_cancer\n",
        "from sklearn.model_selection import train_test_split, GridSearchCV\n",
        "from sklearn.metrics import accuracy_score\n",
        "from xgboost import XGBClassifier\n",
        "\n",
        "# Load dataset\n",
        "data = load_breast_cancer()\n",
        "X, y = data.data, data.target\n",
        "\n",
        "# Split data\n",
        "X_train, X_test, y_train, y_test = train_test_split(\n",
        "    X, y, test_size=0.2, random_state=42\n",
        ")\n",
        "\n",
        "# Initialize XGBoost Classifier\n",
        "xgb = XGBClassifier(use_label_encoder=False, eval_metric='logloss', random_state=42)\n",
        "\n",
        "# Define parameter grid for learning rate tuning\n",
        "param_grid = {'learning_rate': [0.01, 0.05, 0.1, 0.2]}\n",
        "\n",
        "# GridSearchCV for tuning\n",
        "grid_search = GridSearchCV(\n",
        "    estimator=xgb,\n",
        "    param_grid=param_grid,\n",
        "    scoring='accuracy',\n",
        "    cv=5,\n",
        "    n_jobs=-1\n",
        ")\n",
        "grid_search.fit(X_train, y_train)\n",
        "\n",
        "# Best parameters\n",
        "print(\"Best Parameters:\", grid_search.best_params_)\n",
        "\n",
        "# Evaluate on test set\n",
        "best_model = grid_search.best_estimator_\n",
        "y_pred = best_model.predict(X_test)\n",
        "accuracy = accuracy_score(y_test, y_pred)\n",
        "print(f\"Test Accuracy: {accuracy:.4f}\")\n"
      ],
      "metadata": {
        "colab": {
          "base_uri": "https://localhost:8080/"
        },
        "id": "IVr_Iz4lw9uz",
        "outputId": "a399c362-a879-403c-e15a-9ac98f35f041"
      },
      "execution_count": 3,
      "outputs": [
        {
          "output_type": "stream",
          "name": "stdout",
          "text": [
            "Best Parameters: {'learning_rate': 0.2}\n",
            "Test Accuracy: 0.9561\n"
          ]
        },
        {
          "output_type": "stream",
          "name": "stderr",
          "text": [
            "/usr/local/lib/python3.11/dist-packages/xgboost/training.py:183: UserWarning: [16:16:00] WARNING: /workspace/src/learner.cc:738: \n",
            "Parameters: { \"use_label_encoder\" } are not used.\n",
            "\n",
            "  bst.update(dtrain, iteration=i, fobj=obj)\n"
          ]
        }
      ]
    },
    {
      "cell_type": "markdown",
      "source": [
        "Q-9 : Write a Python program to:\n",
        "● Train a CatBoost Classifier\n",
        "● Plot the confusion matrix using seaborn\n",
        "(Include your Python code and output in the code box below.)"
      ],
      "metadata": {
        "id": "dv6waZqXxJo9"
      }
    },
    {
      "cell_type": "code",
      "source": [
        "from sklearn.datasets import load_breast_cancer\n",
        "from sklearn.model_selection import train_test_split\n",
        "from sklearn.metrics import confusion_matrix\n",
        "import seaborn as sns\n",
        "import matplotlib.pyplot as plt\n",
        "from catboost import CatBoostClassifier\n",
        "\n",
        "# Load dataset\n",
        "data = load_breast_cancer()\n",
        "X, y = data.data, data.target\n",
        "\n",
        "# Split data\n",
        "X_train, X_test, y_train, y_test = train_test_split(\n",
        "    X, y, test_size=0.2, random_state=42\n",
        ")\n",
        "\n",
        "# Initialize and train CatBoost Classifier\n",
        "model = CatBoostClassifier(verbose=0, random_state=42)\n",
        "model.fit(X_train, y_train)\n",
        "\n",
        "# Predictions\n",
        "y_pred = model.predict(X_test)\n",
        "\n",
        "# Confusion Matrix\n",
        "cm = confusion_matrix(y_test, y_pred)\n",
        "\n",
        "# Plot\n",
        "plt.figure(figsize=(6, 4))\n",
        "sns.heatmap(cm, annot=True, fmt='d', cmap='Blues',\n",
        "            xticklabels=data.target_names,\n",
        "            yticklabels=data.target_names)\n",
        "plt.xlabel(\"Predicted Label\")\n",
        "plt.ylabel(\"True Label\")\n",
        "plt.title(\"CatBoost Classifier - Confusion Matrix\")\n",
        "plt.show()\n"
      ],
      "metadata": {
        "colab": {
          "base_uri": "https://localhost:8080/",
          "height": 410
        },
        "id": "P-ai_XWIxoPM",
        "outputId": "dc8e6b42-97b3-4043-ab98-e898aa9c806a"
      },
      "execution_count": 6,
      "outputs": [
        {
          "output_type": "display_data",
          "data": {
            "text/plain": [
              "<Figure size 600x400 with 2 Axes>"
            ],
            "image/png": "[encoded data removed]"
          },
          "metadata": {}
        }
      ]
    },
    {
      "cell_type": "code",
      "metadata": {
        "colab": {
          "base_uri": "https://localhost:8080/"
        },
        "id": "a10bc9c7",
        "outputId": "55be3945-3fa3-47dc-88ec-6e118d7216ec"
      },
      "source": [
        "!pip install catboost"
      ],
      "execution_count": 5,
      "outputs": [
        {
          "output_type": "stream",
          "name": "stdout",
          "text": [
            "Collecting catboost\n",
            "  Downloading catboost-1.2.8-cp311-cp311-manylinux2014_x86_64.whl.metadata (1.2 kB)\n",
            "Requirement already satisfied: graphviz in /usr/local/lib/python3.11/dist-packages (from catboost) (0.21)\n",
            "Requirement already satisfied: matplotlib in /usr/local/lib/python3.11/dist-packages (from catboost) (3.10.0)\n",
            "Requirement already satisfied: numpy<3.0,>=1.16.0 in /usr/local/lib/python3.11/dist-packages (from catboost) (2.0.2)\n",
            "Requirement already satisfied: pandas>=0.24 in /usr/local/lib/python3.11/dist-packages (from catboost) (2.2.2)\n",
            "Requirement already satisfied: scipy in /usr/local/lib/python3.11/dist-packages (from catboost) (1.16.1)\n",
            "Requirement already satisfied: plotly in /usr/local/lib/python3.11/dist-packages (from catboost) (5.24.1)\n",
            "Requirement already satisfied: six in /usr/local/lib/python3.11/dist-packages (from catboost) (1.17.0)\n",
            "Requirement already satisfied: python-dateutil>=2.8.2 in /usr/local/lib/python3.11/dist-packages (from pandas>=0.24->catboost) (2.9.0.post0)\n",
            "Requirement already satisfied: pytz>=2020.1 in /usr/local/lib/python3.11/dist-packages (from pandas>=0.24->catboost) (2025.2)\n",
            "Requirement already satisfied: tzdata>=2022.7 in /usr/local/lib/python3.11/dist-packages (from pandas>=0.24->catboost) (2025.2)\n",
            "Requirement already satisfied: contourpy>=1.0.1 in /usr/local/lib/python3.11/dist-packages (from matplotlib->catboost) (1.3.3)\n",
            "Requirement already satisfied: cycler>=0.10 in /usr/local/lib/python3.11/dist-packages (from matplotlib->catboost) (0.12.1)\n",
            "Requirement already satisfied: fonttools>=4.22.0 in /usr/local/lib/python3.11/dist-packages (from matplotlib->catboost) (4.59.0)\n",
            "Requirement already satisfied: kiwisolver>=1.3.1 in /usr/local/lib/python3.11/dist-packages (from matplotlib->catboost) (1.4.8)\n",
            "Requirement already satisfied: packaging>=20.0 in /usr/local/lib/python3.11/dist-packages (from matplotlib->catboost) (25.0)\n",
            "Requirement already satisfied: pillow>=8 in /usr/local/lib/python3.11/dist-packages (from matplotlib->catboost) (11.3.0)\n",
            "Requirement already satisfied: pyparsing>=2.3.1 in /usr/local/lib/python3.11/dist-packages (from matplotlib->catboost) (3.2.3)\n",
            "Requirement already satisfied: tenacity>=6.2.0 in /usr/local/lib/python3.11/dist-packages (from plotly->catboost) (8.5.0)\n",
            "Downloading catboost-1.2.8-cp311-cp311-manylinux2014_x86_64.whl (99.2 MB)\n",
            "\u001b[2K   \u001b[90m━━━━━━━━━━━━━━━━━━━━━━━━━━━━━━━━━━━━━━━━\u001b[0m \u001b[32m99.2/99.2 MB\u001b[0m \u001b[31m8.9 MB/s\u001b[0m eta \u001b[36m0:00:00\u001b[0m\n",
            "\u001b[?25hInstalling collected packages: catboost\n",
            "Successfully installed catboost-1.2.8\n"
          ]
        }
      ]
    },
    {
      "cell_type": "markdown",
      "source": [
        "Q-10 : You're working for a FinTech company trying to predict loan default using\n",
        "customer demographics and transaction behavior.\n",
        "The dataset is imbalanced, contains missing values, and has both numeric and\n",
        "categorical features.\n",
        "Describe your step-by-step data science pipeline using boosting techniques:\n",
        "● Data preprocessing & handling missing/categorical values\n",
        "● Choice between AdaBoost, XGBoost, or CatBoost\n",
        "● Hyperparameter tuning strategy\n",
        "● Evaluation metrics you'd choose and why\n",
        "● How the business would benefit from your model\n",
        "(Include your Python code and output in the code box below.)"
      ],
      "metadata": {
        "id": "dDwQ1A__x_sl"
      }
    },
    {
      "cell_type": "markdown",
      "source": [
        "1. Data Preprocessing\n",
        "Handle Missing Values:\n",
        "\n",
        "Numeric → fill with median (robust to outliers).\n",
        "\n",
        "Categorical → fill with mode.\n",
        "\n",
        "Some boosting algorithms (CatBoost, XGBoost) can directly handle missing values.\n",
        "\n",
        "Encode Categorical Features:\n",
        "\n",
        "CatBoost → no manual encoding needed.\n",
        "\n",
        "XGBoost/AdaBoost → use One-Hot or Target Encoding.\n",
        "\n",
        "Feature Scaling: Not mandatory for tree-based boosting methods.\n",
        "\n",
        "Class Imbalance Handling:\n",
        "\n",
        "Use scale_pos_weight in XGBoost or class weights in CatBoost.\n",
        "\n",
        "Alternatively, use oversampling (SMOTE) or undersampling.\n",
        "\n",
        "2. Choice of Algorithm\n",
        "CatBoost is my top choice because:\n",
        "\n",
        "Handles categorical features natively.\n",
        "\n",
        "Handles missing values automatically.\n",
        "\n",
        "Often performs better with minimal preprocessing.\n",
        "\n",
        "3. Hyperparameter Tuning Strategy\n",
        "Use GridSearchCV or RandomizedSearchCV for parameters:\n",
        "\n",
        "learning_rate\n",
        "\n",
        "depth\n",
        "\n",
        "l2_leaf_reg\n",
        "\n",
        "iterations\n",
        "\n",
        "For imbalanced data, tune class_weights (CatBoost) or scale_pos_weight (XGBoost).\n",
        "\n",
        "4. Evaluation Metrics\n",
        "Since it’s an imbalanced classification problem:\n",
        "\n",
        "Primary: AUC-ROC (measures ranking ability).\n",
        "\n",
        "Secondary: Precision, Recall, F1-score (important for detecting defaults).\n",
        "\n",
        "Avoid accuracy as the main metric because it can be misleading in imbalanced datasets.\n",
        "\n",
        "5. Business Benefit\n",
        "Accurate risk assessment → fewer defaults.\n",
        "\n",
        "Targeted loan approvals → increased profitability.\n",
        "\n",
        "Better customer segmentation → tailored interest rates.\n",
        "\n"
      ],
      "metadata": {
        "id": "CH6FJ6mUyJjq"
      }
    },
    {
      "cell_type": "code",
      "source": [
        "import pandas as pd\n",
        "import numpy as np\n",
        "from sklearn.model_selection import train_test_split, RandomizedSearchCV\n",
        "from sklearn.metrics import roc_auc_score, classification_report\n",
        "from catboost import CatBoostClassifier\n",
        "\n",
        "# ---- Generate synthetic dataset ----\n",
        "np.random.seed(42)\n",
        "n_samples = 5000\n",
        "\n",
        "# Numeric features\n",
        "age = np.random.randint(18, 70, size=n_samples)\n",
        "income = np.random.randint(20000, 200000, size=n_samples)\n",
        "transactions = np.random.randint(0, 500, size=n_samples)\n",
        "\n",
        "# Categorical features\n",
        "gender = np.random.choice(['Male', 'Female'], size=n_samples)\n",
        "region = np.random.choice(['North', 'South', 'East', 'West'], size=n_samples)\n",
        "\n",
        "# Target (imbalanced)\n",
        "loan_default = np.random.choice([0, 1], size=n_samples, p=[0.88, 0.12])\n",
        "\n",
        "# Create DataFrame\n",
        "df = pd.DataFrame({\n",
        "    \"age\": age,\n",
        "    \"income\": income,\n",
        "    \"transactions\": transactions,\n",
        "    \"gender\": gender,\n",
        "    \"region\": region,\n",
        "    \"loan_default\": loan_default\n",
        "})\n",
        "\n",
        "# ---- Preprocessing ----\n",
        "X = df.drop(\"loan_default\", axis=1)\n",
        "y = df[\"loan_default\"]\n",
        "cat_features = X.select_dtypes(include=[\"object\", \"category\"]).columns.tolist()\n",
        "\n",
        "# ---- Train-Test Split ----\n",
        "X_train, X_test, y_train, y_test = train_test_split(\n",
        "    X, y, test_size=0.2, random_state=42, stratify=y\n",
        ")\n",
        "\n",
        "# ---- Model Initialization ----\n",
        "model = CatBoostClassifier(\n",
        "    verbose=0,\n",
        "    random_state=42,\n",
        "    eval_metric='AUC',\n",
        "    class_weights=[1, len(y) / sum(y)]  # Handle imbalance\n",
        ")\n",
        "\n",
        "# ---- Hyperparameter Tuning ----\n",
        "param_dist = {\n",
        "    \"depth\": [4, 6, 8],\n",
        "    \"learning_rate\": [0.01, 0.05, 0.1],\n",
        "    \"l2_leaf_reg\": [1, 3, 5, 7],\n",
        "    \"iterations\": [200, 500]\n",
        "}\n",
        "\n",
        "search = RandomizedSearchCV(\n",
        "    estimator=model,\n",
        "    param_distributions=param_dist,\n",
        "    n_iter=5,\n",
        "    scoring=\"roc_auc\",\n",
        "    cv=3,\n",
        "    verbose=1,\n",
        "    n_jobs=-1\n",
        ")\n",
        "\n",
        "search.fit(X_train, y_train, cat_features=cat_features)\n",
        "\n",
        "# ---- Best Model Evaluation ----\n",
        "best_model = search.best_estimator_\n",
        "y_pred = best_model.predict(X_test)\n",
        "y_prob = best_model.predict_proba(X_test)[:, 1]\n",
        "\n",
        "print(\"Best Parameters:\", search.best_params_)\n",
        "print(\"ROC-AUC Score:\", roc_auc_score(y_test, y_prob))\n",
        "print(classification_report(y_test, y_pred))\n"
      ],
      "metadata": {
        "colab": {
          "base_uri": "https://localhost:8080/"
        },
        "id": "DubRcIWxyCoL",
        "outputId": "d84080ad-d00c-45bf-8ef5-c98f8c962ba3"
      },
      "execution_count": 8,
      "outputs": [
        {
          "output_type": "stream",
          "name": "stdout",
          "text": [
            "Fitting 3 folds for each of 5 candidates, totalling 15 fits\n",
            "Best Parameters: {'learning_rate': 0.05, 'l2_leaf_reg': 5, 'iterations': 500, 'depth': 6}\n",
            "ROC-AUC Score: 0.5037560760053027\n",
            "              precision    recall  f1-score   support\n",
            "\n",
            "           0       0.88      0.68      0.77       876\n",
            "           1       0.13      0.34      0.19       124\n",
            "\n",
            "    accuracy                           0.64      1000\n",
            "   macro avg       0.50      0.51      0.48      1000\n",
            "weighted avg       0.79      0.64      0.69      1000\n",
            "\n"
          ]
        }
      ]
    }
  ]
}