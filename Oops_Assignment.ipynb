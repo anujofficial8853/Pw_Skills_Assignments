{
  "nbformat": 4,
  "nbformat_minor": 0,
  "metadata": {
    "colab": {
      "provenance": []
    },
    "kernelspec": {
      "name": "python3",
      "display_name": "Python 3"
    },
    "language_info": {
      "name": "python"
    }
  },
  "cells": [
    {
      "cell_type": "markdown",
      "source": [
        "#Oops Assignment"
      ],
      "metadata": {
        "id": "ysdJXi265YNi"
      }
    },
    {
      "cell_type": "markdown",
      "source": [
        "#Theory Question : Oops Concept"
      ],
      "metadata": {
        "id": "AvNrWUjM_lk5"
      }
    },
    {
      "cell_type": "markdown",
      "source": [
        "  Q-1 What is Object-Oriented Programming (OOPs) ?\n",
        "\n"
      ],
      "metadata": {
        "id": "_VF_QmH-5gpe"
      }
    },
    {
      "cell_type": "markdown",
      "source": [
        "A-1 : Object-Oriented Programming (OOP) is a programming paradigm based on the concept of \"objects,\" which encapsulate data and behavior together."
      ],
      "metadata": {
        "id": "tWJuQgzQ5vRl"
      }
    },
    {
      "cell_type": "markdown",
      "source": [
        "Q-2 : What is a class in OOPs ?"
      ],
      "metadata": {
        "id": "IZase9SO525Z"
      }
    },
    {
      "cell_type": "markdown",
      "source": [
        "A-2 : A class in OOP is a blueprint for creating objects that defines properties (attributes) and behaviors (methods)."
      ],
      "metadata": {
        "id": "611hQhCX6B69"
      }
    },
    {
      "cell_type": "markdown",
      "source": [
        "Q-3 : What is an object in OOP ?"
      ],
      "metadata": {
        "id": "e5Da-e2y6R3K"
      }
    },
    {
      "cell_type": "markdown",
      "source": [
        "A-3 : An object in OOP is an instance of a class that contains real values for the attributes and can perform actions defined by its methods.\n"
      ],
      "metadata": {
        "id": "UdCJdZPs6YYZ"
      }
    },
    {
      "cell_type": "markdown",
      "source": [
        "Q-4 : What is the difference between abstraction and encapsulation+"
      ],
      "metadata": {
        "id": "t-CfBpAC6kLw"
      }
    },
    {
      "cell_type": "markdown",
      "source": [
        "A-4 : Abstraction hides complexity by showing only essential features, while encapsulation hides data by bundling it with methods and restricting access.\n"
      ],
      "metadata": {
        "id": "I_oq2FYV6y0y"
      }
    },
    {
      "cell_type": "markdown",
      "source": [
        "Q-5 :  What are dunder methods in Python ?"
      ],
      "metadata": {
        "id": "reyemCmD632A"
      }
    },
    {
      "cell_type": "markdown",
      "source": [
        "A-5 : Dunder methods in Python are special methods with double underscores (e.g., `__init__`, `__str__`) used to define custom behavior for built-in operations.\n"
      ],
      "metadata": {
        "id": "eukGoiAa7A4R"
      }
    },
    {
      "cell_type": "markdown",
      "source": [
        "Q-6 :  Explain the concept of inheritance in OOP ?"
      ],
      "metadata": {
        "id": "Oz45hgsQ7Ime"
      }
    },
    {
      "cell_type": "markdown",
      "source": [
        "A-6 : Inheritance in OOP is the concept where a class (child) acquires properties and behaviors from another class (parent).\n"
      ],
      "metadata": {
        "id": "JG6-_LXi7S_r"
      }
    },
    {
      "cell_type": "markdown",
      "source": [
        "Q-7 : What is polymorphism in OOP ?"
      ],
      "metadata": {
        "id": "crfJwuXz7qpC"
      }
    },
    {
      "cell_type": "markdown",
      "source": [
        "A-7 : Polymorphism in OOP is the ability of different objects to respond to the same method name in different ways.\n"
      ],
      "metadata": {
        "id": "FauFqbpm7b2s"
      }
    },
    {
      "cell_type": "markdown",
      "source": [
        "Q-8 : How is encapsulation achieved in Python?"
      ],
      "metadata": {
        "id": "0OIVtTfN7u63"
      }
    },
    {
      "cell_type": "markdown",
      "source": [
        "A-8 : Encapsulation is achieved using classes by keeping data private using underscores and providing getter/setter methods."
      ],
      "metadata": {
        "id": "pIK5IqSF78z5"
      }
    },
    {
      "cell_type": "markdown",
      "source": [
        "Q-9 : What is a constructor in Python?"
      ],
      "metadata": {
        "id": "b8_GvPtQ8BTf"
      }
    },
    {
      "cell_type": "markdown",
      "source": [
        "A-9 : A constructor is a special method __init__ that initializes an object when it is created."
      ],
      "metadata": {
        "id": "_Y3o1Lzx8Hr4"
      }
    },
    {
      "cell_type": "markdown",
      "source": [
        "Q-10 : What are class and static methods in Python?"
      ],
      "metadata": {
        "id": "2DwgKTau8fdi"
      }
    },
    {
      "cell_type": "markdown",
      "source": [
        "A-10 : Class methods use @classmethod and access class-level data, while static methods use @staticmethod and don’t access class or instance data."
      ],
      "metadata": {
        "id": "Kd9hUX7B8jqx"
      }
    },
    {
      "cell_type": "markdown",
      "source": [
        "Q-11 : What is method overloading in Python?"
      ],
      "metadata": {
        "id": "4Ah26zC88p25"
      }
    },
    {
      "cell_type": "markdown",
      "source": [
        "A-11 : Python does not support traditional method overloading; it can be mimicked using default arguments or *args."
      ],
      "metadata": {
        "id": "Oq5pX6aU8vQl"
      }
    },
    {
      "cell_type": "markdown",
      "source": [
        "Q-12 : What is method overriding in OOP?"
      ],
      "metadata": {
        "id": "5TMdgbtE8zL_"
      }
    },
    {
      "cell_type": "markdown",
      "source": [
        "A-12 : Method overriding allows a subclass to provide a specific implementation of a method already defined in its superclass."
      ],
      "metadata": {
        "id": "W1zRbTTa89JV"
      }
    },
    {
      "cell_type": "markdown",
      "source": [
        "Q-13 : What is a property decorator in Python?"
      ],
      "metadata": {
        "id": "ztMx4lj69CEF"
      }
    },
    {
      "cell_type": "markdown",
      "source": [
        "A-13 : The @property decorator allows a method to be accessed like an attribute, often used for getters."
      ],
      "metadata": {
        "id": "94E5nvy59G8s"
      }
    },
    {
      "cell_type": "markdown",
      "source": [
        "Q-14 : Why is polymorphism important in OOP?"
      ],
      "metadata": {
        "id": "Eaf1Qkic9O2T"
      }
    },
    {
      "cell_type": "markdown",
      "source": [
        "A-14 : Polymorphism allows objects of different classes to be treated as objects of a common superclass, enabling code reusability and flexibility."
      ],
      "metadata": {
        "id": "yyn2wP7C9VXH"
      }
    },
    {
      "cell_type": "markdown",
      "source": [
        "Q-15: What is an abstract class in Python?"
      ],
      "metadata": {
        "id": "vt7GTlXL9Zfz"
      }
    },
    {
      "cell_type": "markdown",
      "source": [
        "A-15 : An abstract class in Python, defined using the abc module, cannot be instantiated and can have abstract methods that must be implemented by subclasses."
      ],
      "metadata": {
        "id": "vSrZmcXB9dcP"
      }
    },
    {
      "cell_type": "markdown",
      "source": [
        "Q-16 : What are the advantages of OOP?"
      ],
      "metadata": {
        "id": "eA93NgwJ9jZn"
      }
    },
    {
      "cell_type": "markdown",
      "source": [
        "A-16 : OOP promotes code reusability, modularity, scalability, and easier maintenance."
      ],
      "metadata": {
        "id": "aQCM0Hbt9nnJ"
      }
    },
    {
      "cell_type": "markdown",
      "source": [
        "Q-17 : What is the difference between a class variable and an instance variable?"
      ],
      "metadata": {
        "id": "MXjDCPR39wtM"
      }
    },
    {
      "cell_type": "markdown",
      "source": [
        "A-17 : Class variables are shared across all instances, while instance variables are unique to each object."
      ],
      "metadata": {
        "id": "pu1QkKVs9zTo"
      }
    },
    {
      "cell_type": "markdown",
      "source": [
        "Q-18 : What is multiple inheritance in Python?"
      ],
      "metadata": {
        "id": "91aq3RlO93vB"
      }
    },
    {
      "cell_type": "markdown",
      "source": [
        "A-18 : Multiple inheritance is when a class inherits from more than one parent class.\n",
        "\n"
      ],
      "metadata": {
        "id": "jgmO2Qb_98Im"
      }
    },
    {
      "cell_type": "markdown",
      "source": [
        "Q-19 : Explain the purpose of __str__ and __repr__ methods in Python ?"
      ],
      "metadata": {
        "id": "CUwxdD8_-Ayr"
      }
    },
    {
      "cell_type": "markdown",
      "source": [
        "A-19 : __str__ returns a readable string for end users, while __repr__ returns an unambiguous string for developers."
      ],
      "metadata": {
        "id": "qJpfImKE-LtL"
      }
    },
    {
      "cell_type": "markdown",
      "source": [
        "Q-20 : What is the significance of the super() function in Python?"
      ],
      "metadata": {
        "id": "hFMxIL6F-Qu-"
      }
    },
    {
      "cell_type": "markdown",
      "source": [
        "A-20 : super() allows access to methods of a parent class, often used to extend or modify inherited behavior."
      ],
      "metadata": {
        "id": "nzsEM99T-Vj8"
      }
    },
    {
      "cell_type": "markdown",
      "source": [
        "Q-21 : What is the significance of the __del__ method in Python?"
      ],
      "metadata": {
        "id": "h9wIoiNE-fLH"
      }
    },
    {
      "cell_type": "markdown",
      "source": [
        "A-21 : The __del__ method is a destructor called when an object is about to be destroyed to clean up resources."
      ],
      "metadata": {
        "id": "HrPAuiC--uR-"
      }
    },
    {
      "cell_type": "markdown",
      "source": [
        "Q-22 : What is the difference between @staticmethod and @classmethod in Python?"
      ],
      "metadata": {
        "id": "2owpRBa4-0eN"
      }
    },
    {
      "cell_type": "markdown",
      "source": [
        "A-22 : @staticmethod doesn’t take any implicit first argument, while @classmethod takes cls as the first argument referring to the class."
      ],
      "metadata": {
        "id": "hImV529Z-47l"
      }
    },
    {
      "cell_type": "markdown",
      "source": [
        "Q-23 : How does polymorphism work in Python with inheritance?"
      ],
      "metadata": {
        "id": "e2lQoqTC-9nI"
      }
    },
    {
      "cell_type": "markdown",
      "source": [
        "A-23 : In Python, polymorphism with inheritance allows derived classes to override base class methods and be used interchangeably through the base class interface."
      ],
      "metadata": {
        "id": "ESUVfBpp_Cg0"
      }
    },
    {
      "cell_type": "markdown",
      "source": [
        "Q-24 : What is method chaining in Python OOP?"
      ],
      "metadata": {
        "id": "MZM20WNb_IPn"
      }
    },
    {
      "cell_type": "markdown",
      "source": [
        "A-24 : Method chaining is calling multiple methods on the same object in a single line by returning self from each method."
      ],
      "metadata": {
        "id": "-A-umnPd_P-C"
      }
    },
    {
      "cell_type": "markdown",
      "source": [
        "Q-25 : What is the purpose of the __call__ method in Python?"
      ],
      "metadata": {
        "id": "xvzuWI5f_SoZ"
      }
    },
    {
      "cell_type": "markdown",
      "source": [
        "A-25 : The __call__ method allows an object to be called like a function."
      ],
      "metadata": {
        "id": "rF-FdFuO_W10"
      }
    },
    {
      "cell_type": "markdown",
      "source": [
        "# Practical Question : Oops Concept"
      ],
      "metadata": {
        "id": "S8msGjo__tyX"
      }
    },
    {
      "cell_type": "markdown",
      "source": [
        "Q-1 : Create a parent class Animal with a method speak() that prints a generic message. Create a child class Dog\n",
        "that overrides the speak() method to print \"Bark!\"."
      ],
      "metadata": {
        "id": "6421klj6_aOr"
      }
    },
    {
      "cell_type": "code",
      "execution_count": 1,
      "metadata": {
        "colab": {
          "base_uri": "https://localhost:8080/"
        },
        "id": "fh1j7yNL5PP-",
        "outputId": "3c4bfc93-7e76-475a-b19d-7a14352baa34"
      },
      "outputs": [
        {
          "output_type": "stream",
          "name": "stdout",
          "text": [
            "The animal makes a sound.\n",
            "Bark!\n"
          ]
        }
      ],
      "source": [
        "class Animal:\n",
        "    def speak(self):\n",
        "        print(\"The animal makes a sound.\")\n",
        "\n",
        "class Dog(Animal):\n",
        "    def speak(self):\n",
        "        print(\"Bark!\")\n",
        "\n",
        "# Example usage\n",
        "a = Animal()\n",
        "a.speak()   # Output: The animal makes a sound.\n",
        "\n",
        "d = Dog()\n",
        "d.speak()   # Output: Bark!\n"
      ]
    },
    {
      "cell_type": "markdown",
      "source": [
        "Q-2 : Write a program to create an abstract class Shape with a method area(). Derive classes Circle and Rectangle\n",
        "from it and implement the area() method in both.\n",
        "\n",
        "\n"
      ],
      "metadata": {
        "id": "yhaN3I8OASY4"
      }
    },
    {
      "cell_type": "code",
      "source": [
        "from abc import ABC, abstractmethod\n",
        "import math\n",
        "\n",
        "# Abstract class Shape\n",
        "class Shape(ABC):\n",
        "    @abstractmethod\n",
        "    def area(self):\n",
        "        pass\n",
        "\n",
        "# Derived class Circle\n",
        "class Circle(Shape):\n",
        "    def __init__(self, radius):\n",
        "        self.radius = radius\n",
        "\n",
        "    def area(self):\n",
        "        return math.pi * self.radius ** 2\n",
        "\n",
        "# Derived class Rectangle\n",
        "class Rectangle(Shape):\n",
        "    def __init__(self, width, height):\n",
        "        self.width = width\n",
        "        self.height = height\n",
        "\n",
        "    def area(self):\n",
        "        return self.width * self.height\n",
        "\n",
        "# Example usage\n",
        "circle = Circle(5)\n",
        "print(f\"Area of Circle: {circle.area()}\")  # Output: Area of Circle: 78.53981633974483\n",
        "\n",
        "rectangle = Rectangle(4, 6)\n",
        "print(f\"Area of Rectangle: {rectangle.area()}\")  # Output: Area of Rectangle: 24\n"
      ],
      "metadata": {
        "colab": {
          "base_uri": "https://localhost:8080/"
        },
        "id": "PYyfpoWgAd5C",
        "outputId": "c28ffcf4-8b8a-4042-f667-1b5f665e2a03"
      },
      "execution_count": 2,
      "outputs": [
        {
          "output_type": "stream",
          "name": "stdout",
          "text": [
            "Area of Circle: 78.53981633974483\n",
            "Area of Rectangle: 24\n"
          ]
        }
      ]
    },
    {
      "cell_type": "markdown",
      "source": [
        "Q-3 : Implement a multi-level inheritance scenario where a class Vehicle has an attribute type. Derive a class Car\n",
        "and further derive a class ElectricCar that adds a battery attribute."
      ],
      "metadata": {
        "id": "sy1qsxpGAiZ1"
      }
    },
    {
      "cell_type": "code",
      "source": [
        "# Base class Vehicle\n",
        "class Vehicle:\n",
        "    def __init__(self, type):\n",
        "        self.type = type\n",
        "\n",
        "    def display_info(self):\n",
        "        print(f\"Vehicle Type: {self.type}\")\n",
        "\n",
        "# Derived class Car from Vehicle\n",
        "class Car(Vehicle):\n",
        "    def __init__(self, type, model):\n",
        "        super().__init__(type)\n",
        "        self.model = model\n",
        "\n",
        "    def display_info(self):\n",
        "        super().display_info()\n",
        "        print(f\"Car Model: {self.model}\")\n",
        "\n",
        "# Further derived class ElectricCar from Car\n",
        "class ElectricCar(Car):\n",
        "    def __init__(self, type, model, battery_capacity):\n",
        "        super().__init__(type, model)\n",
        "        self.battery_capacity = battery_capacity\n",
        "\n",
        "    def display_info(self):\n",
        "        super().display_info()\n",
        "        print(f\"Battery Capacity: {self.battery_capacity} kWh\")\n",
        "\n",
        "# Example usage\n",
        "vehicle = Vehicle(\"General Vehicle\")\n",
        "vehicle.display_info()  # Output: Vehicle Type: General Vehicle\n",
        "\n",
        "car = Car(\"Car\", \"Sedan\")\n",
        "car.display_info()  # Output: Vehicle Type: Car, Car Model: Sedan\n",
        "\n",
        "electric_car = ElectricCar(\"Electric Car\", \"Tesla Model 3\", 75)\n",
        "electric_car.display_info()  # Output: Vehicle Type: Electric Car, Car Model: Tesla Model 3, Battery Capacity: 75 kWh\n"
      ],
      "metadata": {
        "colab": {
          "base_uri": "https://localhost:8080/"
        },
        "id": "CGqlmXofAp_3",
        "outputId": "90c7db0d-40fa-4a87-fa13-40e3d9fdf544"
      },
      "execution_count": 3,
      "outputs": [
        {
          "output_type": "stream",
          "name": "stdout",
          "text": [
            "Vehicle Type: General Vehicle\n",
            "Vehicle Type: Car\n",
            "Car Model: Sedan\n",
            "Vehicle Type: Electric Car\n",
            "Car Model: Tesla Model 3\n",
            "Battery Capacity: 75 kWh\n"
          ]
        }
      ]
    },
    {
      "cell_type": "markdown",
      "source": [
        "Q-4 :  Demonstrate polymorphism by creating a base class Bird with a method fly(). Create two derived classes\n",
        "Sparrow and Penguin that override the fly() method.\n"
      ],
      "metadata": {
        "id": "GYbwqIq89rBf"
      }
    },
    {
      "cell_type": "code",
      "source": [
        "# Base class Bird\n",
        "class Bird:\n",
        "    def fly(self):\n",
        "        print(\"This bird can fly.\")\n",
        "\n",
        "# Derived class Sparrow\n",
        "class Sparrow(Bird):\n",
        "    def fly(self):\n",
        "        print(\"Sparrow flies in the sky.\")\n",
        "\n",
        "# Derived class Penguin\n",
        "class Penguin(Bird):\n",
        "    def fly(self):\n",
        "        print(\"Penguins can't fly.\")\n",
        "\n",
        "# Example usage\n",
        "bird = Bird()\n",
        "bird.fly()  # Output: This bird can fly.\n",
        "\n",
        "sparrow = Sparrow()\n",
        "sparrow.fly()  # Output: Sparrow flies in the sky.\n",
        "\n",
        "penguin = Penguin()\n",
        "penguin.fly()  # Output: Penguins can't fly.\n"
      ],
      "metadata": {
        "colab": {
          "base_uri": "https://localhost:8080/"
        },
        "id": "2dbIJGm_A6El",
        "outputId": "05278870-ce9e-4eb4-ccd2-48ea88940c20"
      },
      "execution_count": 4,
      "outputs": [
        {
          "output_type": "stream",
          "name": "stdout",
          "text": [
            "This bird can fly.\n",
            "Sparrow flies in the sky.\n",
            "Penguins can't fly.\n"
          ]
        }
      ]
    },
    {
      "cell_type": "markdown",
      "source": [
        "Q-5 : Write a program to demonstrate encapsulation by creating a class BankAccount with private attributes\n",
        "balance and methods to deposit, withdraw, and check balance."
      ],
      "metadata": {
        "id": "xBKdgaU7A-7V"
      }
    },
    {
      "cell_type": "code",
      "source": [
        "class BankAccount:\n",
        "    def __init__(self, initial_balance=0):\n",
        "        self.__balance = initial_balance  # private attribute\n",
        "\n",
        "    # Deposit method to add money\n",
        "    def deposit(self, amount):\n",
        "        if amount > 0:\n",
        "            self.__balance += amount\n",
        "            print(f\"Deposited: ${amount}\")\n",
        "        else:\n",
        "            print(\"Deposit amount must be positive.\")\n",
        "\n",
        "    # Withdraw method to subtract money\n",
        "    def withdraw(self, amount):\n",
        "        if amount > 0 and amount <= self.__balance:\n",
        "            self.__balance -= amount\n",
        "            print(f\"Withdrawn: ${amount}\")\n",
        "        else:\n",
        "            print(\"Invalid withdrawal amount or insufficient funds.\")\n",
        "\n",
        "    # Method to check the balance\n",
        "    def check_balance(self):\n",
        "        return f\"Current Balance: ${self.__balance}\"\n",
        "\n",
        "# Example usage\n",
        "account = BankAccount(100)  # Initial balance of $100\n",
        "print(account.check_balance())  # Output: Current Balance: $100\n",
        "\n",
        "account.deposit(50)  # Deposit $50\n",
        "print(account.check_balance())  # Output: Current Balance: $150\n",
        "\n",
        "account.withdraw(30)  # Withdraw $30\n",
        "print(account.check_balance())  # Output: Current Balance: $120\n",
        "\n",
        "account.withdraw(200)  # Invalid withdrawal\n"
      ],
      "metadata": {
        "colab": {
          "base_uri": "https://localhost:8080/"
        },
        "id": "l4Mn455mBGoR",
        "outputId": "f5dd87e6-2fcb-4168-c244-c2ad23aca3b6"
      },
      "execution_count": 5,
      "outputs": [
        {
          "output_type": "stream",
          "name": "stdout",
          "text": [
            "Current Balance: $100\n",
            "Deposited: $50\n",
            "Current Balance: $150\n",
            "Withdrawn: $30\n",
            "Current Balance: $120\n",
            "Invalid withdrawal amount or insufficient funds.\n"
          ]
        }
      ]
    },
    {
      "cell_type": "markdown",
      "source": [
        "Q-6 :  Demonstrate runtime polymorphism using a method play() in a base class Instrument. Derive classes Guitar\n",
        "and Piano that implement their own version of play().\n",
        "\n",
        "\n"
      ],
      "metadata": {
        "id": "BgwvAmhIBMhk"
      }
    },
    {
      "cell_type": "code",
      "source": [
        "# Base class Instrument\n",
        "class Instrument:\n",
        "    def play(self):\n",
        "        print(\"Playing an instrument.\")\n",
        "\n",
        "# Derived class Guitar\n",
        "class Guitar(Instrument):\n",
        "    def play(self):\n",
        "        print(\"Strumming the guitar.\")\n",
        "\n",
        "# Derived class Piano\n",
        "class Piano(Instrument):\n",
        "    def play(self):\n",
        "        print(\"Playing the piano.\")\n",
        "\n",
        "# Example usage\n",
        "def play_instrument(instrument):\n",
        "    instrument.play()  # Polymorphic behavior\n",
        "\n",
        "# Create objects of Guitar and Piano\n",
        "guitar = Guitar()\n",
        "piano = Piano()\n",
        "\n",
        "# Demonstrating runtime polymorphism\n",
        "play_instrument(guitar)  # Output: Strumming the guitar.\n",
        "play_instrument(piano)   # Output: Playing the piano.\n"
      ],
      "metadata": {
        "colab": {
          "base_uri": "https://localhost:8080/"
        },
        "id": "nq6DpChjBRuB",
        "outputId": "ebdb6391-f965-4d1f-cfad-c28862a8cb41"
      },
      "execution_count": 6,
      "outputs": [
        {
          "output_type": "stream",
          "name": "stdout",
          "text": [
            "Strumming the guitar.\n",
            "Playing the piano.\n"
          ]
        }
      ]
    },
    {
      "cell_type": "markdown",
      "source": [
        "Q-7 : Create a class MathOperations with a class method add_numbers() to add two numbers and a static\n",
        "method subtract_numbers() to subtract two numbers."
      ],
      "metadata": {
        "id": "Fy0n1Da4BdE4"
      }
    },
    {
      "cell_type": "code",
      "source": [
        "class MathOperations:\n",
        "\n",
        "    @classmethod\n",
        "    def add_numbers(cls, num1, num2):\n",
        "        return num1 + num2\n",
        "\n",
        "    @staticmethod\n",
        "    def subtract_numbers(num1, num2):\n",
        "        return num1 - num2\n",
        "\n",
        "# Example usage\n",
        "# Using the class method\n",
        "result_addition = MathOperations.add_numbers(10, 5)\n",
        "print(f\"Addition Result: {result_addition}\")  # Output: Addition Result: 15\n",
        "\n",
        "# Using the static method\n",
        "result_subtraction = MathOperations.subtract_numbers(10, 5)\n",
        "print(f\"Subtraction Result: {result_subtraction}\")  # Output: Subtraction Result: 5\n"
      ],
      "metadata": {
        "colab": {
          "base_uri": "https://localhost:8080/"
        },
        "id": "EDavgMamBmPy",
        "outputId": "e9ae7854-a0c8-4b4b-81cd-c921ec5680de"
      },
      "execution_count": 7,
      "outputs": [
        {
          "output_type": "stream",
          "name": "stdout",
          "text": [
            "Addition Result: 15\n",
            "Subtraction Result: 5\n"
          ]
        }
      ]
    },
    {
      "cell_type": "markdown",
      "source": [
        "Q-8 : Implement a class Person with a class method to count the total number of persons created."
      ],
      "metadata": {
        "id": "BA41U3ExBreq"
      }
    },
    {
      "cell_type": "code",
      "source": [
        "class Person:\n",
        "    # Class variable to keep track of the count\n",
        "    person_count = 0\n",
        "\n",
        "    def __init__(self, name, age):\n",
        "        self.name = name\n",
        "        self.age = age\n",
        "        # Increment person count every time a new person object is created\n",
        "        Person.person_count += 1\n",
        "\n",
        "    @classmethod\n",
        "    def get_person_count(cls):\n",
        "        return cls.person_count\n",
        "\n",
        "# Example usage\n",
        "person1 = Person(\"Alice\", 30)\n",
        "person2 = Person(\"Bob\", 25)\n",
        "person3 = Person(\"Charlie\", 35)\n",
        "\n",
        "# Get the total count of persons created\n",
        "print(f\"Total number of persons created: {Person.get_person_count()}\")  # Output: 3\n"
      ],
      "metadata": {
        "colab": {
          "base_uri": "https://localhost:8080/"
        },
        "id": "SlJf7grgB3Dg",
        "outputId": "dfc08b8a-b799-4130-9d4d-ee0310eecee7"
      },
      "execution_count": 8,
      "outputs": [
        {
          "output_type": "stream",
          "name": "stdout",
          "text": [
            "Total number of persons created: 3\n"
          ]
        }
      ]
    },
    {
      "cell_type": "markdown",
      "source": [
        "Q-9 : Write a class Fraction with attributes numerator and denominator. Override the str method to display the\n",
        "fraction as \"numerator/denominator\"."
      ],
      "metadata": {
        "id": "x-qWez6hBzIn"
      }
    },
    {
      "cell_type": "code",
      "source": [
        "class Fraction:\n",
        "    def __init__(self, numerator, denominator):\n",
        "        self.numerator = numerator\n",
        "        self.denominator = denominator\n",
        "\n",
        "    def __str__(self):\n",
        "        return f\"{self.numerator}/{self.denominator}\"\n",
        "\n",
        "# Example usage\n",
        "fraction1 = Fraction(3, 4)\n",
        "fraction2 = Fraction(5, 8)\n",
        "\n",
        "# Printing the fractions\n",
        "print(fraction1)  # Output: 3/4\n",
        "print(fraction2)  # Output: 5/8\n"
      ],
      "metadata": {
        "colab": {
          "base_uri": "https://localhost:8080/"
        },
        "id": "SzXhbsrqCANt",
        "outputId": "c060dc15-22bc-435e-e917-7c93eb0ebc6f"
      },
      "execution_count": 9,
      "outputs": [
        {
          "output_type": "stream",
          "name": "stdout",
          "text": [
            "3/4\n",
            "5/8\n"
          ]
        }
      ]
    },
    {
      "cell_type": "markdown",
      "source": [
        "Q-10 :  Demonstrate operator overloading by creating a class Vector and overriding the add method to add two\n",
        "vectors."
      ],
      "metadata": {
        "id": "7f3ywD8ACEoW"
      }
    },
    {
      "cell_type": "code",
      "source": [
        "class Vector:\n",
        "    def __init__(self, x, y):\n",
        "        self.x = x\n",
        "        self.y = y\n",
        "\n",
        "    # Overloading the + operator to add two vectors\n",
        "    def __add__(self, other):\n",
        "        return Vector(self.x + other.x, self.y + other.y)\n",
        "\n",
        "    # Method to display the vector\n",
        "    def __str__(self):\n",
        "        return f\"({self.x}, {self.y})\"\n",
        "\n",
        "# Example usage\n",
        "vector1 = Vector(2, 3)\n",
        "vector2 = Vector(4, 5)\n",
        "\n",
        "# Adding two vectors using the overloaded + operator\n",
        "result = vector1 + vector2\n",
        "\n",
        "# Display the result\n",
        "print(f\"Vector 1: {vector1}\")  # Output: Vector 1: (2, 3)\n",
        "print(f\"Vector 2: {vector2}\")  # Output: Vector 2: (4, 5)\n",
        "print(f\"Result of addition: {result}\")  # Output: Result of addition: (6, 8)\n"
      ],
      "metadata": {
        "colab": {
          "base_uri": "https://localhost:8080/"
        },
        "id": "rBjZVQvBCLab",
        "outputId": "9f215ecb-8605-4ab5-c9ee-ae0f47f0e67d"
      },
      "execution_count": 10,
      "outputs": [
        {
          "output_type": "stream",
          "name": "stdout",
          "text": [
            "Vector 1: (2, 3)\n",
            "Vector 2: (4, 5)\n",
            "Result of addition: (6, 8)\n"
          ]
        }
      ]
    },
    {
      "cell_type": "markdown",
      "source": [
        "Q-11 :  Create a class Person with attributes name and age. Add a method greet() that prints \"Hello, my name is\n",
        "{name} and I am {age} years old.\""
      ],
      "metadata": {
        "id": "cLE-RcCFCPip"
      }
    },
    {
      "cell_type": "code",
      "source": [
        "class Person:\n",
        "    def __init__(self, name, age):\n",
        "        self.name = name\n",
        "        self.age = age\n",
        "\n",
        "    def greet(self):\n",
        "        print(f\"Hello, my name is {self.name} and I am {self.age} years old.\")\n",
        "\n",
        "# Example usage\n",
        "person1 = Person(\"Alice\", 30)\n",
        "person1.greet()  # Output: Hello, my name is Alice and I am 30 years old.\n",
        "\n",
        "person2 = Person(\"Bob\", 25)\n",
        "person2.greet()  # Output: Hello, my name is Bob and I am 25 years old.\n"
      ],
      "metadata": {
        "colab": {
          "base_uri": "https://localhost:8080/"
        },
        "id": "spq2FcipCV0q",
        "outputId": "3d92cd5e-951e-4d62-8f4a-5bb530d2129d"
      },
      "execution_count": 11,
      "outputs": [
        {
          "output_type": "stream",
          "name": "stdout",
          "text": [
            "Hello, my name is Alice and I am 30 years old.\n",
            "Hello, my name is Bob and I am 25 years old.\n"
          ]
        }
      ]
    },
    {
      "cell_type": "markdown",
      "source": [
        "Q-12 : Implement a class Student with attributes name and grades. Create a method average_grade() to compute\n",
        "the average of the grades."
      ],
      "metadata": {
        "id": "3Fw7L5pcCZCw"
      }
    },
    {
      "cell_type": "code",
      "source": [
        "class Student:\n",
        "    def __init__(self, name, grades):\n",
        "        self.name = name\n",
        "        self.grades = grades  # grades should be a list of numbers\n",
        "\n",
        "    def average_grade(self):\n",
        "        if len(self.grades) == 0:\n",
        "            return 0  # Prevent division by zero if no grades are present\n",
        "        return sum(self.grades) / len(self.grades)\n",
        "\n",
        "# Example usage\n",
        "student1 = Student(\"Alice\", [85, 90, 78, 92, 88])\n",
        "print(f\"{student1.name}'s average grade: {student1.average_grade()}\")  # Output: Alice's average grade: 86.6\n",
        "\n",
        "student2 = Student(\"Bob\", [75, 80, 85, 90])\n",
        "print(f\"{student2.name}'s average grade: {student2.average_grade()}\")  # Output: Bob's average grade: 82.5\n"
      ],
      "metadata": {
        "colab": {
          "base_uri": "https://localhost:8080/"
        },
        "id": "qtSUUSL1CfRr",
        "outputId": "c8e56cb6-49d8-470b-84d3-3cfc89ccd1bb"
      },
      "execution_count": 12,
      "outputs": [
        {
          "output_type": "stream",
          "name": "stdout",
          "text": [
            "Alice's average grade: 86.6\n",
            "Bob's average grade: 82.5\n"
          ]
        }
      ]
    },
    {
      "cell_type": "markdown",
      "source": [
        "Q-13 : Create a class Rectangle with methods set_dimensions() to set the dimensions and area() to calculate the\n",
        "area."
      ],
      "metadata": {
        "id": "uMVdjzlBBlsc"
      }
    },
    {
      "cell_type": "code",
      "source": [
        "class Rectangle:\n",
        "    def __init__(self):\n",
        "        self.length = 0\n",
        "        self.width = 0\n",
        "\n",
        "    # Method to set dimensions of the rectangle\n",
        "    def set_dimensions(self, length, width):\n",
        "        self.length = length\n",
        "        self.width = width\n",
        "\n",
        "    # Method to calculate the area of the rectangle\n",
        "    def area(self):\n",
        "        return self.length * self.width\n",
        "\n",
        "# Example usage\n",
        "rectangle1 = Rectangle()\n",
        "rectangle1.set_dimensions(5, 3)\n",
        "print(f\"Area of Rectangle 1: {rectangle1.area()}\")  # Output: Area of Rectangle 1: 15\n",
        "\n",
        "rectangle2 = Rectangle()\n",
        "rectangle2.set_dimensions(7, 4)\n",
        "print(f\"Area of Rectangle 2: {rectangle2.area()}\")  # Output: Area of Rectangle 2: 28\n"
      ],
      "metadata": {
        "colab": {
          "base_uri": "https://localhost:8080/"
        },
        "id": "TC4Xp_dsCtvt",
        "outputId": "d0b335d4-72b4-44e3-fa5b-83418c7e10f4"
      },
      "execution_count": 13,
      "outputs": [
        {
          "output_type": "stream",
          "name": "stdout",
          "text": [
            "Area of Rectangle 1: 15\n",
            "Area of Rectangle 2: 28\n"
          ]
        }
      ]
    },
    {
      "cell_type": "markdown",
      "source": [
        "Q-14 : Create a class Employee with a method calculate_salary() that computes the salary based on hours worked\n",
        "and hourly rate. Create a derived class Manager that adds a bonus to the salary"
      ],
      "metadata": {
        "id": "Vm41NzxOC5Rm"
      }
    },
    {
      "cell_type": "code",
      "source": [
        "class Employee:\n",
        "    def __init__(self, name, hours_worked, hourly_rate):\n",
        "        self.name = name\n",
        "        self.hours_worked = hours_worked\n",
        "        self.hourly_rate = hourly_rate\n",
        "\n",
        "    # Method to calculate the salary\n",
        "    def calculate_salary(self):\n",
        "        return self.hours_worked * self.hourly_rate\n",
        "\n",
        "class Manager(Employee):\n",
        "    def __init__(self, name, hours_worked, hourly_rate, bonus):\n",
        "        super().__init__(name, hours_worked, hourly_rate)\n",
        "        self.bonus = bonus\n",
        "\n",
        "    # Overriding the calculate_salary method to add bonus for managers\n",
        "    def calculate_salary(self):\n",
        "        base_salary = super().calculate_salary()  # Get the base salary from Employee class\n",
        "        return base_salary + self.bonus\n",
        "\n",
        "# Example usage\n",
        "employee = Employee(\"Alice\", 160, 25)\n",
        "print(f\"{employee.name}'s Salary: ${employee.calculate_salary()}\")  # Output: Alice's Salary: $4000\n",
        "\n",
        "manager = Manager(\"Bob\", 160, 30, 2000)\n",
        "print(f\"{manager.name}'s Salary: ${manager.calculate_salary()}\")  # Output: Bob's Salary: $6800\n"
      ],
      "metadata": {
        "colab": {
          "base_uri": "https://localhost:8080/"
        },
        "id": "rfWCxgkTC_h4",
        "outputId": "d574cc64-a55f-45e3-99ae-db8e826689b8"
      },
      "execution_count": 14,
      "outputs": [
        {
          "output_type": "stream",
          "name": "stdout",
          "text": [
            "Alice's Salary: $4000\n",
            "Bob's Salary: $6800\n"
          ]
        }
      ]
    },
    {
      "cell_type": "markdown",
      "source": [
        "Q-15 : Create a class Product with attributes name, price, and quantity. Implement a method total_price() that\n",
        "calculates the total price of the product."
      ],
      "metadata": {
        "id": "cAVsZEIcDFft"
      }
    },
    {
      "cell_type": "code",
      "source": [
        "class Product:\n",
        "    def __init__(self, name, price, quantity):\n",
        "        self.name = name\n",
        "        self.price = price\n",
        "        self.quantity = quantity\n",
        "\n",
        "    # Method to calculate the total price of the product\n",
        "    def total_price(self):\n",
        "        return self.price * self.quantity\n",
        "\n",
        "# Example usage\n",
        "product1 = Product(\"Laptop\", 1000, 3)\n",
        "print(f\"Total price of {product1.name}: ${product1.total_price()}\")  # Output: Total price of Laptop: $3000\n",
        "\n",
        "product2 = Product(\"Phone\", 500, 5)\n",
        "print(f\"Total price of {product2.name}: ${product2.total_price()}\")  # Output: Total price of Phone: $2500\n"
      ],
      "metadata": {
        "colab": {
          "base_uri": "https://localhost:8080/"
        },
        "id": "PJPLxjcWDMfe",
        "outputId": "4f666b7e-c741-4ac2-8c54-06cd260c5c6f"
      },
      "execution_count": 15,
      "outputs": [
        {
          "output_type": "stream",
          "name": "stdout",
          "text": [
            "Total price of Laptop: $3000\n",
            "Total price of Phone: $2500\n"
          ]
        }
      ]
    },
    {
      "cell_type": "markdown",
      "source": [
        "Q-16 : Create a class Animal with an abstract method sound(). Create two derived classes Cow and Sheep that\n",
        "implement the sound() method."
      ],
      "metadata": {
        "id": "ZQtkfUg-DThO"
      }
    },
    {
      "cell_type": "code",
      "source": [
        "from abc import ABC, abstractmethod\n",
        "\n",
        "# Abstract base class Animal\n",
        "class Animal(ABC):\n",
        "    @abstractmethod\n",
        "    def sound(self):\n",
        "        pass\n",
        "\n",
        "# Derived class Cow\n",
        "class Cow(Animal):\n",
        "    def sound(self):\n",
        "        return \"Moo\"\n",
        "\n",
        "# Derived class Sheep\n",
        "class Sheep(Animal):\n",
        "    def sound(self):\n",
        "        return \"Baa\"\n",
        "\n",
        "# Example usage\n",
        "cow = Cow()\n",
        "print(f\"Cow sound: {cow.sound()}\")  # Output: Cow sound: Moo\n",
        "\n",
        "sheep = Sheep()\n",
        "print(f\"Sheep sound: {sheep.sound()}\")  # Output: Sheep sound: Baa\n"
      ],
      "metadata": {
        "colab": {
          "base_uri": "https://localhost:8080/"
        },
        "id": "C89ZRrb6DSyH",
        "outputId": "f3318de5-206d-4365-a0a4-831012ccd2f9"
      },
      "execution_count": 16,
      "outputs": [
        {
          "output_type": "stream",
          "name": "stdout",
          "text": [
            "Cow sound: Moo\n",
            "Sheep sound: Baa\n"
          ]
        }
      ]
    },
    {
      "cell_type": "markdown",
      "source": [
        "Q-17 : Create a class Book with attributes title, author, and year_published. Add a method get_book_info() that\n",
        "returns a formatted string with the book's details."
      ],
      "metadata": {
        "id": "8mbuMf_kDgjK"
      }
    },
    {
      "cell_type": "code",
      "source": [
        "class Book:\n",
        "    def __init__(self, title, author, year_published):\n",
        "        self.title = title\n",
        "        self.author = author\n",
        "        self.year_published = year_published\n",
        "\n",
        "    # Method to return the formatted string with the book's details\n",
        "    def get_book_info(self):\n",
        "        return f\"Title: {self.title}\\nAuthor: {self.author}\\nYear Published: {self.year_published}\"\n",
        "\n",
        "# Example usage\n",
        "book1 = Book(\"To Kill a Mockingbird\", \"Harper Lee\", 1960)\n",
        "print(book1.get_book_info())\n",
        "# Output:\n",
        "# Title: To Kill a Mockingbird\n",
        "# Author: Harper Lee\n",
        "# Year Published: 1960\n",
        "\n",
        "book2 = Book(\"1984\", \"George Orwell\", 1949)\n",
        "print(book2.get_book_info())\n",
        "# Output:\n",
        "# Title: 1984\n",
        "# Author: George Orwell\n",
        "# Year Published: 1949\n"
      ],
      "metadata": {
        "colab": {
          "base_uri": "https://localhost:8080/"
        },
        "id": "0yrwo9tdDoGY",
        "outputId": "8cea6121-377e-4efc-b9d6-09566f1390ce"
      },
      "execution_count": 17,
      "outputs": [
        {
          "output_type": "stream",
          "name": "stdout",
          "text": [
            "Title: To Kill a Mockingbird\n",
            "Author: Harper Lee\n",
            "Year Published: 1960\n",
            "Title: 1984\n",
            "Author: George Orwell\n",
            "Year Published: 1949\n"
          ]
        }
      ]
    },
    {
      "cell_type": "markdown",
      "source": [
        "Q-18 : Create a class House with attributes address and price. Create a derived class Mansion that adds an\n",
        "attribute number_of_rooms."
      ],
      "metadata": {
        "id": "bhSlZTdDDvJ5"
      }
    },
    {
      "cell_type": "code",
      "source": [
        "class House:\n",
        "    def __init__(self, address, price):\n",
        "        self.address = address\n",
        "        self.price = price\n",
        "\n",
        "    # Method to display house details\n",
        "    def get_details(self):\n",
        "        return f\"Address: {self.address}\\nPrice: ${self.price}\"\n",
        "\n",
        "# Derived class Mansion\n",
        "class Mansion(House):\n",
        "    def __init__(self, address, price, number_of_rooms):\n",
        "        super().__init__(address, price)\n",
        "        self.number_of_rooms = number_of_rooms\n",
        "\n",
        "    # Overriding the get_details method to include number of rooms\n",
        "    def get_details(self):\n",
        "        base_details = super().get_details()  # Get base house details\n",
        "        return f\"{base_details}\\nNumber of rooms: {self.number_of_rooms}\"\n",
        "\n",
        "# Example usage\n",
        "house = House(\"123 Elm Street\", 250000)\n",
        "print(\"House Details:\\n\", house.get_details())\n",
        "# Output:\n",
        "# House Details:\n",
        "# Address: 123 Elm Street\n",
        "# Price: $250000\n",
        "\n",
        "mansion = Mansion(\"456 Oak Avenue\", 1500000, 12)\n",
        "print(\"\\nMansion Details:\\n\", mansion.get_details())\n",
        "# Output:\n",
        "# Mansion Details:\n",
        "# Address: 456 Oak Avenue\n",
        "# Price: $1500000\n",
        "# Number of rooms: 12\n"
      ],
      "metadata": {
        "colab": {
          "base_uri": "https://localhost:8080/"
        },
        "id": "1mVNlWPkD1zx",
        "outputId": "14bdaba7-36e2-41cb-8feb-3bacc47778ba"
      },
      "execution_count": 18,
      "outputs": [
        {
          "output_type": "stream",
          "name": "stdout",
          "text": [
            "House Details:\n",
            " Address: 123 Elm Street\n",
            "Price: $250000\n",
            "\n",
            "Mansion Details:\n",
            " Address: 456 Oak Avenue\n",
            "Price: $1500000\n",
            "Number of rooms: 12\n"
          ]
        }
      ]
    }
  ]
}